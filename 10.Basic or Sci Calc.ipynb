{
 "cells": [
  {
   "cell_type": "markdown",
   "metadata": {},
   "source": [
    "NUMBERS"
   ]
  },
  {
   "cell_type": "markdown",
   "metadata": {},
   "source": [
    "(10)Calculator"
   ]
  },
  {
   "cell_type": "code",
   "execution_count": 3,
   "metadata": {},
   "outputs": [
    {
     "name": "stdout",
     "output_type": "stream",
     "text": [
      "enter Basic or Sci(anykey)g\n",
      "1-sine, \n",
      "2-cos, \n",
      "3-tan , \n",
      "4-cosh, \n",
      "5-sinh, \n",
      "6-tanh, \n",
      "7-sqrt\n",
      "enter 1 for sin, 2 for cos, 3 for tan , 4 for cosh ,5 for sinh, 6 for tanh,7 for sqrt 7\n",
      "num 1 :144\n",
      "12.0\n"
     ]
    }
   ],
   "source": [
    "#Basic Calc and sci-calc\n",
    "import math\n",
    "choice = input('enter Basic or Sci(anykey)')\n",
    "\n",
    "if choice.lower().startswith('b'):\n",
    "    \n",
    "    print('\\n1-Add, \\n2-sub, \\n3-mul , \\n4-div')\n",
    "    op = int(input('enter 1 forAdd, 2 for sub, 3 for mul , 4 for div :  '))\n",
    "\n",
    "    while op:\n",
    "        if op in (1,2,3,4):\n",
    "            n1 = float(input ('num 1 :'))\n",
    "            n2 = float(input ('num 2 :'))\n",
    "\n",
    "            if op == 1:\n",
    "                print (n1 + n2)\n",
    "                break\n",
    "            elif op == 2:\n",
    "                print (n1 - n2)\n",
    "                break\n",
    "            elif op == 3:\n",
    "                print (n1 * n2)\n",
    "                break\n",
    "            elif op == 4:\n",
    "                print (n1 / n2)\n",
    "                break\n",
    "        else:\n",
    "            print('invalid i/o  choose b/w 1-4')\n",
    "            break\n",
    "else:\n",
    "    print('1-sine, \\n2-cos, \\n3-tan , \\n4-cosh, \\n5-sinh, \\n6-tanh, \\n7-sqrt')\n",
    "    op = int(input('enter 1 for sin, 2 for cos, 3 for tan , 4 for cosh ,5 for sinh, 6 for tanh,7 for sqrt '))\n",
    "\n",
    "    while op:\n",
    "        if op in range(1,8):\n",
    "\n",
    "\n",
    "            if op == 1:\n",
    "\n",
    "                n1 = float(input ('num 1 :'))\n",
    "                #n2 = float(input ('num 2 :'))\n",
    "                print (math.sin(n1))\n",
    "                break\n",
    "            elif op == 2:\n",
    "                n1 = float(input ('num 1 :'))\n",
    "                #n2 = float(input ('num 2 :'))\n",
    "                print (math.cos(n1))          \n",
    "                break\n",
    "            elif op == 3:\n",
    "                n1 = float(input ('num 1 :'))\n",
    "                #n2 = float(input ('num 2 :'))\n",
    "                print (math.tan(n1))       \n",
    "                break\n",
    "            elif op == 4:\n",
    "                n1 = float(input ('num 1 :'))\n",
    "                #n2 = float(input ('num 2 :'))\n",
    "                print (math.cosh(n1))\n",
    "                break\n",
    "            elif op == 5:\n",
    "                n1 = float(input ('num 1 :'))\n",
    "                #n2 = float(input ('num 2 :'))\n",
    "                print (math.sinh(n1))          \n",
    "                break\n",
    "            elif op == 6:\n",
    "                n1 = float(input ('num 1 :'))\n",
    "                #n2 = float(input ('num 2 :'))\n",
    "                print (math.tanh(n1))       \n",
    "                break\n",
    "            elif op == 7:\n",
    "                n1 = float(input ('num 1 :'))\n",
    "                #n2 = float(input ('num 2 :'))\n",
    "                print (math.sqrt(n1))\n",
    "                break\n",
    "        else:\n",
    "            print('invalid i/o  choose b/w 1-7')\n",
    "            break\n",
    "\n",
    "\n"
   ]
  }
 ],
 "metadata": {
  "kernelspec": {
   "display_name": "Python 3",
   "language": "python",
   "name": "python3"
  },
  "language_info": {
   "codemirror_mode": {
    "name": "ipython",
    "version": 3
   },
   "file_extension": ".py",
   "mimetype": "text/x-python",
   "name": "python",
   "nbconvert_exporter": "python",
   "pygments_lexer": "ipython3",
   "version": "3.7.6"
  }
 },
 "nbformat": 4,
 "nbformat_minor": 4
}
