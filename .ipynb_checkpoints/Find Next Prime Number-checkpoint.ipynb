{
 "cells": [
  {
   "cell_type": "markdown",
   "metadata": {},
   "source": [
    "NUMBERS"
   ]
  },
  {
   "cell_type": "markdown",
   "metadata": {},
   "source": [
    "5. To find next prime number"
   ]
  },
  {
   "cell_type": "code",
   "execution_count": 2,
   "metadata": {},
   "outputs": [
    {
     "name": "stdout",
     "output_type": "stream",
     "text": [
      "Would you like to see the next prime? (Y/N) y\n",
      "2\n",
      "Would you like to see the next prime? (Y/N) y\n",
      "3\n",
      "Would you like to see the next prime? (Y/N) n\n",
      "Okay thanks lets break the chain.\n"
     ]
    }
   ],
   "source": [
    "def prime_check(x):\n",
    "    \"\"\"\n",
    "    Checks whether the given\n",
    "    number x is prime or not\n",
    "    \"\"\"\n",
    "\n",
    "    if x == 2:\n",
    "        return True\n",
    "\n",
    "    if x % 2 == 0:\n",
    "        return False\n",
    "\n",
    "    for i in range(3, int(x**0.5)+1, 2):\n",
    "        if x % i == 0:\n",
    "            return False\n",
    "\n",
    "    return True\n",
    "\n",
    "\n",
    "def next_prime(currentPrime):\n",
    "    \"\"\"\n",
    "    Returns the next prime\n",
    "    after the currentPrime\n",
    "    \"\"\"\n",
    "\n",
    "    newPrime = currentPrime + 1\n",
    "\n",
    "    while True:\n",
    "\n",
    "        if not prime_check(newPrime):\n",
    "            newPrime += 1\n",
    "        else:\n",
    "            break\n",
    "\n",
    "    return newPrime\n",
    "\n",
    "\n",
    "def main():  # Wrapper function\n",
    "\n",
    "    currentPrime = 2\n",
    "\n",
    "    while True:\n",
    "\n",
    "        answer = input('Would you like to see the next prime? (Y/N) ')\n",
    "\n",
    "        if answer.lower().startswith('y'):\n",
    "            print(currentPrime)\n",
    "            currentPrime = next_prime(currentPrime)\n",
    "\n",
    "        else:\n",
    "            print('Okay thanks lets break the chain.')\n",
    "            break\n",
    "\n",
    "main()"
   ]
  }
 ],
 "metadata": {
  "kernelspec": {
   "display_name": "Python 3",
   "language": "python",
   "name": "python3"
  },
  "language_info": {
   "codemirror_mode": {
    "name": "ipython",
    "version": 3
   },
   "file_extension": ".py",
   "mimetype": "text/x-python",
   "name": "python",
   "nbconvert_exporter": "python",
   "pygments_lexer": "ipython3",
   "version": "3.7.6"
  }
 },
 "nbformat": 4,
 "nbformat_minor": 4
}
