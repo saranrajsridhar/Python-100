{
 "cells": [
  {
   "cell_type": "markdown",
   "metadata": {},
   "source": [
    "NUMBERS"
   ]
  },
  {
   "cell_type": "markdown",
   "metadata": {},
   "source": [
    "1. PI Value with Desired Decimal places"
   ]
  },
  {
   "cell_type": "code",
   "execution_count": 6,
   "metadata": {},
   "outputs": [
    {
     "name": "stdout",
     "output_type": "stream",
     "text": [
      "enter val : 22\n"
     ]
    },
    {
     "data": {
      "text/plain": [
       "Decimal('3.142857142857142857143')"
      ]
     },
     "execution_count": 6,
     "metadata": {},
     "output_type": "execute_result"
    }
   ],
   "source": [
    "from decimal import *\n",
    "getcontext().prec = int(input(\"enter val : \"))\n",
    "Decimal(22) / Decimal(7)"
   ]
  },
  {
   "cell_type": "code",
   "execution_count": null,
   "metadata": {},
   "outputs": [],
   "source": []
  },
  {
   "cell_type": "code",
   "execution_count": null,
   "metadata": {},
   "outputs": [],
   "source": []
  },
  {
   "cell_type": "markdown",
   "metadata": {},
   "source": [
    "For more accuracy use chudnovsky algorithim \n",
    "more the number of loops more the accuracy"
   ]
  },
  {
   "cell_type": "code",
   "execution_count": null,
   "metadata": {},
   "outputs": [],
   "source": [
    "from decimal import *\n",
    "\n",
    "#Sets decimal to 25 digits of precision\n",
    "getcontext().prec =int(input('enter prec: '))\n",
    "\n",
    "def factorial(n):\n",
    "    if n<1:\n",
    "        return 1\n",
    "    else:\n",
    "        return n * factorial(n-1)\n",
    "    \n",
    "def chudnovskyBig(n): \n",
    "    #http://en.wikipedia.org/wiki/Chudnovsky_algorithm\n",
    "    pi = Decimal(0)\n",
    "    k = 0\n",
    "    while k < n:\n",
    "        pi += (Decimal(-1)**k)*(Decimal(factorial(6*k))/((factorial(k)**3)*(factorial(3*k)))* (13591409+545140134*k)/(640320**(3*k)))\n",
    "        k += 1\n",
    "    pi = pi * Decimal(10005).sqrt()/4270934400\n",
    "    pi = pi**(-1)\n",
    "    return pi\n",
    "print(\"\\t\\t\\t Plouff \\t\\t Bellard \\t\\t\\t Chudnovsky\")\n",
    "for i in range(1,20):\n",
    "    print(\"Iteration number \",i, \" \", chudnovskyBig(i))"
   ]
  },
  {
   "cell_type": "code",
   "execution_count": null,
   "metadata": {},
   "outputs": [],
   "source": []
  }
 ],
 "metadata": {
  "kernelspec": {
   "display_name": "Python 3",
   "language": "python",
   "name": "python3"
  },
  "language_info": {
   "codemirror_mode": {
    "name": "ipython",
    "version": 3
   },
   "file_extension": ".py",
   "mimetype": "text/x-python",
   "name": "python",
   "nbconvert_exporter": "python",
   "pygments_lexer": "ipython3",
   "version": "3.7.6"
  }
 },
 "nbformat": 4,
 "nbformat_minor": 4
}
