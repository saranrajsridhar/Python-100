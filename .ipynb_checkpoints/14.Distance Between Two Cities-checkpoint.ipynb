{
 "cells": [
  {
   "cell_type": "markdown",
   "metadata": {},
   "source": [
    "NUMBERS"
   ]
  },
  {
   "cell_type": "markdown",
   "metadata": {},
   "source": [
    "(14)Distance Between Two Cities"
   ]
  },
  {
   "cell_type": "code",
   "execution_count": 44,
   "metadata": {},
   "outputs": [
    {
     "name": "stdout",
     "output_type": "stream",
     "text": [
      "Accurate Distance in KM is: 28.431854108325314 km\n",
      "Max KM 29 km\n",
      "Accurate Distance in Mt is: 28431.854108325315 mt\n",
      "Max meters 29000 mt\n"
     ]
    }
   ],
   "source": [
    "'''\n",
    "HAVERSINE FORMULA\n",
    "\n",
    "'''\n",
    "\n",
    "import math\n",
    "# approximate radius of earth in km\n",
    "R = 6373.0 #km\n",
    "la1,lo1 = 43.33,52.4 #float(input('lat1:')),float(input('lon1:'))\n",
    "la2,lo2 = 43.12,52.2 #float(input('lat2:')),float(input('lon2:'))\n",
    "lat1 = math.radians(la1)\n",
    "lon1 = math.radians(lo1)\n",
    "lat2 = math.radians(la2)\n",
    "lon2 = math.radians(lo2)\n",
    "\n",
    "dlon = lon2 - lon1\n",
    "dlat = lat2 - lat1\n",
    "\n",
    "'''HAVERSINE FORMULA'''\n",
    "a = math.sin(dlat / 2)**2 + math.cos(lat1) * math.cos(lat2) * math.sin(dlon / 2)**2\n",
    "c = 2 * math.atan2(math.sqrt(a), math.sqrt(1 - a))\n",
    "\n",
    "distance = R * c\n",
    "\n",
    "print(\"Accurate Distance in KM is:\", distance ,\"km\")\n",
    "print(\"Max KM\", math.ceil(distance), \"km\")\n",
    "print(\"Accurate Distance in Mt is:\", distance*1000 ,\"mt\")\n",
    "print(\"Max meters\", math.ceil(distance)*1000, \"mt\")"
   ]
  }
 ],
 "metadata": {
  "kernelspec": {
   "display_name": "Python 3",
   "language": "python",
   "name": "python3"
  },
  "language_info": {
   "codemirror_mode": {
    "name": "ipython",
    "version": 3
   },
   "file_extension": ".py",
   "mimetype": "text/x-python",
   "name": "python",
   "nbconvert_exporter": "python",
   "pygments_lexer": "ipython3",
   "version": "3.7.6"
  }
 },
 "nbformat": 4,
 "nbformat_minor": 4
}
