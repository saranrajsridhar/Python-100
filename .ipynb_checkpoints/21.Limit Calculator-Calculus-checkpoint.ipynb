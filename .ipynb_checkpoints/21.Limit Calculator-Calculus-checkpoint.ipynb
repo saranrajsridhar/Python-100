{
 "cells": [
  {
   "cell_type": "markdown",
   "metadata": {},
   "source": [
    "NUMBERS"
   ]
  },
  {
   "cell_type": "markdown",
   "metadata": {},
   "source": [
    "(21) Limit Calculator/Calculus"
   ]
  },
  {
   "cell_type": "code",
   "execution_count": 107,
   "metadata": {},
   "outputs": [
    {
     "name": "stdout",
     "output_type": "stream",
     "text": [
      "Diff and Integration\n",
      "-sin(x) -cos(y) 20*x**3 pi\n",
      "Limit Functions\n",
      "func: (cos(x) - 1)/x\n",
      "0\n"
     ]
    }
   ],
   "source": [
    "'''\n",
    "https://docs.sympy.org/latest/tutorial/calculus.html\n",
    "\n",
    "'''\n",
    "#VISIT THIS PAGE FOR MORE INFO ON CALCULUS #SymPy\n",
    "#alternate pacakage is SciPy\n",
    "\n",
    "\n",
    "from sympy import *\n",
    "x,y = symbols('x y')\n",
    "\n",
    "m=cos(x)\n",
    "n=sin(y)\n",
    "\n",
    "print('Diff and Integration')\n",
    "a= diff(m,x)\n",
    "\n",
    "b= integrate(n,y)\n",
    "\n",
    "c = diff(x**5,x,2) #(function,with resp. variable, number of times to be diff)\n",
    "\n",
    "d = integrate(exp(-x**2 - y**2), (x, -oo, oo), (y, -oo, oo))   #(function,**karwgs) \n",
    "#(function,(withres to var,lower limit,upper limit) ,(withres to var,lower limit,upper limit))         \n",
    "\n",
    "print(a,b,c,d)\n",
    "\n",
    "print('Limit Functions')\n",
    "fuc = input('func: ') #(cos(x) - 1)/x\n",
    "\n",
    "expr = limit(fuc, x, 0) #(function,lower limit,upperlimit)\n",
    "\n",
    "print(expr)"
   ]
  }
 ],
 "metadata": {
  "kernelspec": {
   "display_name": "Python 3",
   "language": "python",
   "name": "python3"
  },
  "language_info": {
   "codemirror_mode": {
    "name": "ipython",
    "version": 3
   },
   "file_extension": ".py",
   "mimetype": "text/x-python",
   "name": "python",
   "nbconvert_exporter": "python",
   "pygments_lexer": "ipython3",
   "version": "3.7.6"
  }
 },
 "nbformat": 4,
 "nbformat_minor": 4
}
