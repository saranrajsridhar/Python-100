{
 "cells": [
  {
   "cell_type": "markdown",
   "metadata": {},
   "source": [
    "NUMBERS"
   ]
  },
  {
   "cell_type": "markdown",
   "metadata": {},
   "source": [
    "(21) Consicutive outcomes of a Tossing a coin"
   ]
  },
  {
   "cell_type": "code",
   "execution_count": 68,
   "metadata": {},
   "outputs": [
    {
     "name": "stdout",
     "output_type": "stream",
     "text": [
      "Enter the number of times to be tossed: 7\n",
      "Toss outcomes are -  Tail Head Tail Head Head Head Head,\n",
      "Total heads are 5, & \n",
      "Total tails are 2\n"
     ]
    }
   ],
   "source": [
    "import random\n",
    "def toss():\n",
    "    cf = random.random()  # Random float:  0.0 <= x < 1.0\n",
    "    #print(cf)\n",
    "    if cf > 0.5:\n",
    "        return True\n",
    "    else:\n",
    "        return False\n",
    "    \n",
    "    \n",
    "def calc():\n",
    "    times = int(input('Enter the number of times to be tossed: '))\n",
    "    #string = ''\n",
    "    heads = 0\n",
    "    tails = 0\n",
    "    dstring = ''\n",
    "    for i in  range(times):\n",
    "        result = toss()\n",
    "        #print(str(result) + str(i))\n",
    "        #string = string +' '+ str(result)\n",
    "        #print(string)\n",
    "        if result == True:\n",
    "            heads += 1\n",
    "            dstring = dstring + ' ' + 'Head'\n",
    "        else:\n",
    "            tails += 1\n",
    "            dstring = dstring + ' ' + 'Tail'\n",
    "    return (print(f\"Toss outcomes are - {dstring},\\nTotal heads are {heads}, & \\nTotal tails are {tails}\"))\n",
    "            \n",
    "\n",
    "    \n",
    "    \n",
    "calc()\n"
   ]
  }
 ],
 "metadata": {
  "kernelspec": {
   "display_name": "Python 3",
   "language": "python",
   "name": "python3"
  },
  "language_info": {
   "codemirror_mode": {
    "name": "ipython",
    "version": 3
   },
   "file_extension": ".py",
   "mimetype": "text/x-python",
   "name": "python",
   "nbconvert_exporter": "python",
   "pygments_lexer": "ipython3",
   "version": "3.7.6"
  }
 },
 "nbformat": 4,
 "nbformat_minor": 4
}
