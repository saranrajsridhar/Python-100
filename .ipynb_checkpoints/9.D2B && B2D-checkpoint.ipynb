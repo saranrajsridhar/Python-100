{
 "cells": [
  {
   "cell_type": "markdown",
   "metadata": {},
   "source": [
    "NUMBERS"
   ]
  },
  {
   "cell_type": "markdown",
   "metadata": {},
   "source": [
    "(9 A)Binary to Decimal and Back Converter "
   ]
  },
  {
   "cell_type": "code",
   "execution_count": 11,
   "metadata": {},
   "outputs": [
    {
     "name": "stdout",
     "output_type": "stream",
     "text": [
      "1000"
     ]
    }
   ],
   "source": [
    "\n",
    "def D2B(num):\n",
    "    if num > 1: \n",
    "        DecimalToBinary(num // 2) \n",
    "    print(num % 2, end = '') \n",
    "\n",
    "\n",
    "val = 8\n",
    "#D2B(int(input('enter the deci value: ')))\n",
    "D2B(val) \n"
   ]
  },
  {
   "cell_type": "markdown",
   "metadata": {},
   "source": [
    "(9 B)Binary to Decimal and Back Converter "
   ]
  },
  {
   "cell_type": "code",
   "execution_count": 12,
   "metadata": {},
   "outputs": [
    {
     "name": "stdout",
     "output_type": "stream",
     "text": [
      "8 is the decimal number of  1000\n"
     ]
    }
   ],
   "source": [
    "#B B2D\n",
    "def B2D(n):\n",
    "    while True:\n",
    "        try:\n",
    "            print(f\"{(int(n,2))} is the decimal number of {n}\")\n",
    "        except:\n",
    "            print(\"Looks like you did not enter an string 0 n 1!\")\n",
    "            continue\n",
    "        else:\n",
    "            #print(\"Yep that's an string of 0 and 1!\")\n",
    "            break\n",
    "        finally:\n",
    "            \n",
    "            break\n",
    "#B2D(input(\" 0's and 1's in string: \"))\n",
    "B2D(\" 1000\")\n",
    "       "
   ]
  }
 ],
 "metadata": {
  "kernelspec": {
   "display_name": "Python 3",
   "language": "python",
   "name": "python3"
  },
  "language_info": {
   "codemirror_mode": {
    "name": "ipython",
    "version": 3
   },
   "file_extension": ".py",
   "mimetype": "text/x-python",
   "name": "python",
   "nbconvert_exporter": "python",
   "pygments_lexer": "ipython3",
   "version": "3.7.6"
  }
 },
 "nbformat": 4,
 "nbformat_minor": 4
}
