{
 "cells": [
  {
   "cell_type": "markdown",
   "metadata": {},
   "source": [
    "NUMBERS"
   ]
  },
  {
   "cell_type": "markdown",
   "metadata": {},
   "source": [
    "(7)Mortage Calculator"
   ]
  },
  {
   "cell_type": "code",
   "execution_count": null,
   "metadata": {},
   "outputs": [],
   "source": [
    "#A\n",
    "#with package\n",
    "\n",
    "from mortgage import Loan\n",
    "principal= int(input('enter the total loan amount needed'))\n",
    "interest= float(input('enter the total interest rate for the amount needed'))\n",
    "term = int(input('enter the total duration in months for loan amount needed'))\n",
    "\n",
    "\n",
    "loan = Loan(principal, interest, term)\n",
    "loan.summarize"
   ]
  },
  {
   "cell_type": "markdown",
   "metadata": {},
   "source": []
  },
  {
   "cell_type": "markdown",
   "metadata": {},
   "source": [
    "Formula for mortage is \n",
    "= -PMT(6.5 / 100 / 12, 30 * 12, 200000)\n",
    "= ((6.5 / 100 / 12) * 200000) / (1 - ((1 + (6.5 / 100 / 12)) ^ (-30 * 12)))\n",
    "= 1264.14\n",
    "The following derivation of this formula illustrates how fixed-rate mortgage loans work. The amount owed on the loan at the end of every month equals the amount owed from the previous month, plus the interest on this amount, minus the fixed amount paid every month. This fact results in the debt schedule:\n",
    "\n",
    "Amount owed at initiation: {\\displaystyle P}P\n",
    "Amount owed after 1 month: {\\displaystyle (1+r)P-c}(1+r)P-c\n",
    "Amount owed after 2 months: {\\displaystyle (1+r)((1+r)P-c)-c=(1+r)^{2}P-(1+(1+r))c}(1+r)((1+r)P-c)-c=(1+r)^{2}P-(1+(1+r))c\n",
    "Amount owed after 3 months: {\\displaystyle (1+r)((1+r)((1+r)P-c)-c)-c=(1+r)^{3}P-(1+(1+r)+(1+r)^{2})c}(1+r)((1+r)((1+r)P-c)-c)-c=(1+r)^{3}P-(1+(1+r)+(1+r)^{2})c\n",
    ". . . . . . . . . . . . . . . . . . . . . . . . . . . . . . . . . . . . . . . . . . . . . . . . . .\n",
    "Amount owed after N months: {\\displaystyle (1+r)^{N}P-(1+(1+r)+(1+r)^{2}+\\cdots +(1+r)^{N-1})c}(1+r)^{N}P-(1+(1+r)+(1+r)^{2}+\\cdots +(1+r)^{{N-1}})c\n",
    "\n",
    "https://en.wikipedia.org/wiki/Mortgage_calculator"
   ]
  },
  {
   "cell_type": "code",
   "execution_count": null,
   "metadata": {},
   "outputs": [],
   "source": [
    "#B\n",
    "'''WithOut Library'''\n",
    "\n",
    "'''Mortgage Calculator \n",
    "Calculate the monthly payments of a fixed term mortgage \n",
    "over given Nth terms at a given interest rate. Also figure \n",
    "out how long it will take the user to pay back the loan.\n",
    "'''\n",
    "months = int(input(\"Enter mortgage term (in months): \"))\n",
    "rate = float(input(\"Enter interest rate: \"))\n",
    "loan = float(input(\"Enter loan value: \"))\n",
    "\n",
    "monthly_rate = rate / 100 / 12\n",
    "X =(1 - (1 + monthly_rate)**(-months))\n",
    "\n",
    "payment = (monthly_rate / X) * loan\n",
    "print(f'Monthly pay for the loan of {loan}/- INR , at the interestrate of{rate}% is {payment}/- INR')\n",
    "\n"
   ]
  }
 ],
 "metadata": {
  "kernelspec": {
   "display_name": "Python 3",
   "language": "python",
   "name": "python3"
  },
  "language_info": {
   "codemirror_mode": {
    "name": "ipython",
    "version": 3
   },
   "file_extension": ".py",
   "mimetype": "text/x-python",
   "name": "python",
   "nbconvert_exporter": "python",
   "pygments_lexer": "ipython3",
   "version": "3.7.6"
  }
 },
 "nbformat": 4,
 "nbformat_minor": 4
}
