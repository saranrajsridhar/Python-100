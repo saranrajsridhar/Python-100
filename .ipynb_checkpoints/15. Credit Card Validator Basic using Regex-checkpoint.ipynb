{
 "cells": [
  {
   "cell_type": "markdown",
   "metadata": {},
   "source": [
    "NUMBERS"
   ]
  },
  {
   "cell_type": "markdown",
   "metadata": {},
   "source": [
    "(15) Credit Card Validator"
   ]
  },
  {
   "cell_type": "code",
   "execution_count": 40,
   "metadata": {},
   "outputs": [
    {
     "name": "stdout",
     "output_type": "stream",
     "text": [
      "YES! :-) Its a valid Card\n"
     ]
    }
   ],
   "source": [
    "import re\n",
    "\n",
    "seq = \"2465-3232-3233-1323\" #input('Enter card in XXXX-XXXX-XXXX-XXXX format :  ')\n",
    "x = re.match(\"[23456]{1}[4560]{3}-[0-9]{4}-[0-9]{4}-[0-9]{4}$\",seq)\n",
    "if x:\n",
    "    print(\"YES! :-) Its a valid Card\")\n",
    "else:\n",
    "    print(\"No :-( Its Not a Valid Card\")\n"
   ]
  }
 ],
 "metadata": {
  "kernelspec": {
   "display_name": "Python 3",
   "language": "python",
   "name": "python3"
  },
  "language_info": {
   "codemirror_mode": {
    "name": "ipython",
    "version": 3
   },
   "file_extension": ".py",
   "mimetype": "text/x-python",
   "name": "python",
   "nbconvert_exporter": "python",
   "pygments_lexer": "ipython3",
   "version": "3.7.6"
  }
 },
 "nbformat": 4,
 "nbformat_minor": 4
}
