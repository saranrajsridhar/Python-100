{
 "cells": [
  {
   "cell_type": "markdown",
   "metadata": {},
   "source": [
    "NUMBERS"
   ]
  },
  {
   "cell_type": "markdown",
   "metadata": {},
   "source": [
    "(12)Timer"
   ]
  },
  {
   "cell_type": "code",
   "execution_count": null,
   "metadata": {},
   "outputs": [],
   "source": [
    "  \n",
    "import winsound, time, os, platform\n",
    "\n",
    "\n",
    "def sound():\n",
    "\n",
    "    for i in range(2): # Number of repeats\n",
    "\n",
    "        for j in range(9): # Number of beeps\n",
    "            #winsound.Beep(10000,2)#Beep \n",
    "            winsound.MessageBeep(-1) # Sound played\n",
    "\n",
    "        time.sleep(2) # How long between beeps\n",
    "\n",
    "def timer(n):\n",
    "\n",
    "    \n",
    "    print(\"Wait time:\", n, \"seconds.\")\n",
    "    time.sleep(n) # Waits 'n' seconds before playing sound\n",
    "\n",
    "    sound()\n",
    "\n",
    "duration = 10 #int(input('enter the duration in seconds: '))\n",
    "timer(duration)"
   ]
  }
 ],
 "metadata": {
  "kernelspec": {
   "display_name": "Python 3",
   "language": "python",
   "name": "python3"
  },
  "language_info": {
   "codemirror_mode": {
    "name": "ipython",
    "version": 3
   },
   "file_extension": ".py",
   "mimetype": "text/x-python",
   "name": "python",
   "nbconvert_exporter": "python",
   "pygments_lexer": "ipython3",
   "version": "3.7.6"
  }
 },
 "nbformat": 4,
 "nbformat_minor": 4
}
