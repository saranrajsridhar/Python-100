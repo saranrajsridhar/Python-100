{
 "cells": [
  {
   "cell_type": "markdown",
   "metadata": {},
   "source": [
    "NUMBERS"
   ]
  },
  {
   "cell_type": "markdown",
   "metadata": {},
   "source": [
    "(16)Tax Calculator"
   ]
  },
  {
   "cell_type": "code",
   "execution_count": 22,
   "metadata": {},
   "outputs": [
    {
     "name": "stdout",
     "output_type": "stream",
     "text": [
      "Cost of the Product is 33750.0 /- INR at the rate of 12.5\n"
     ]
    }
   ],
   "source": [
    "rate = 12.5 # float(input('Enter Tax Rate: '))\n",
    "cost = 30000 #int(input('Enter Cost of Products/Bill: '))\n",
    "def taxcal(rate,cost):\n",
    "        Bill_amount = cost + (cost * (rate/100))\n",
    "        return Bill_amount\n",
    "Bill =  taxcal(rate,cost)\n",
    "print(f'Cost of the Product is {Bill} /- INR at the rate of {rate}')"
   ]
  }
 ],
 "metadata": {
  "kernelspec": {
   "display_name": "Python 3",
   "language": "python",
   "name": "python3"
  },
  "language_info": {
   "codemirror_mode": {
    "name": "ipython",
    "version": 3
   },
   "file_extension": ".py",
   "mimetype": "text/x-python",
   "name": "python",
   "nbconvert_exporter": "python",
   "pygments_lexer": "ipython3",
   "version": "3.7.6"
  }
 },
 "nbformat": 4,
 "nbformat_minor": 4
}
