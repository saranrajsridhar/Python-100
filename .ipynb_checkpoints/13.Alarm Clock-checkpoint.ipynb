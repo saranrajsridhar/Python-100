{
 "cells": [
  {
   "cell_type": "markdown",
   "metadata": {},
   "source": [
    "NUMBERS"
   ]
  },
  {
   "cell_type": "markdown",
   "metadata": {},
   "source": [
    "(13)Alarm Clock"
   ]
  },
  {
   "cell_type": "code",
   "execution_count": null,
   "metadata": {},
   "outputs": [],
   "source": [
    "import datetime\n",
    "import winsound, time, os, platform\n",
    "\n",
    "hour = 6 #int(input('enter the hour : '))\n",
    "minu = 12 #int(input('enter the min of the hour : '))\n",
    "ampm = 'pm' #input(\"enter 'am' or 'pm' : \" )\n",
    "\n",
    "if ampm == 'pm':\n",
    "    hour = hour + 12\n",
    "\n",
    "\n",
    "\n",
    "\n",
    "def sound():\n",
    "\n",
    "    for i in range(2): # Number of repeats\n",
    "\n",
    "        for j in range(9): # Number of beeps\n",
    "            #winsound.Beep(10000,2)#Beep \n",
    "            #winsound.MessageBeep(-1) # Sound played\n",
    "            winsound.PlaySound(\"alert5.wav\",winsound.SND_FILENAME)\n",
    "        print(\"Press Ctrl-C to stop\")\n",
    "        \n",
    "        time.sleep(2) # How long between beeps   \n",
    "    \n",
    "while True:\n",
    "    if (hour == datetime.datetime.now().hour and minu == datetime.datetime.now().minute):\n",
    "        sound()\n",
    "        break\n",
    "    \n",
    "    "
   ]
  },
  {
   "cell_type": "code",
   "execution_count": null,
   "metadata": {},
   "outputs": [],
   "source": []
  }
 ],
 "metadata": {
  "kernelspec": {
   "display_name": "Python 3",
   "language": "python",
   "name": "python3"
  },
  "language_info": {
   "codemirror_mode": {
    "name": "ipython",
    "version": 3
   },
   "file_extension": ".py",
   "mimetype": "text/x-python",
   "name": "python",
   "nbconvert_exporter": "python",
   "pygments_lexer": "ipython3",
   "version": "3.7.6"
  }
 },
 "nbformat": 4,
 "nbformat_minor": 4
}
