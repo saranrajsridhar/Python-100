{
 "cells": [
  {
   "cell_type": "markdown",
   "metadata": {},
   "source": [
    "NUMBERS"
   ]
  },
  {
   "cell_type": "markdown",
   "metadata": {},
   "source": [
    " (8) Change Return Program"
   ]
  },
  {
   "cell_type": "code",
   "execution_count": 2,
   "metadata": {},
   "outputs": [
    {
     "name": "stdout",
     "output_type": "stream",
     "text": [
      "enter bill total: 454\n",
      "enter recived total: 500\n",
      "the change must be given is 46.0/- INR\n"
     ]
    }
   ],
   "source": [
    "import math\n",
    "Total = float(input('enter bill total: '))\n",
    "cashrecv=float(input('enter recived total: '))\n",
    "change_to_given = 0.00\n",
    "if cashrecv > Total:\n",
    "    change_to_given = cashrecv - Total\n",
    "    print(f'the change must be given is {change_to_given}/- INR')\n",
    "else:\n",
    "    print('Fund not enough')"
   ]
  },
  {
   "cell_type": "code",
   "execution_count": null,
   "metadata": {},
   "outputs": [],
   "source": []
  }
 ],
 "metadata": {
  "kernelspec": {
   "display_name": "Python 3",
   "language": "python",
   "name": "python3"
  },
  "language_info": {
   "codemirror_mode": {
    "name": "ipython",
    "version": 3
   },
   "file_extension": ".py",
   "mimetype": "text/x-python",
   "name": "python",
   "nbconvert_exporter": "python",
   "pygments_lexer": "ipython3",
   "version": "3.7.6"
  }
 },
 "nbformat": 4,
 "nbformat_minor": 4
}
