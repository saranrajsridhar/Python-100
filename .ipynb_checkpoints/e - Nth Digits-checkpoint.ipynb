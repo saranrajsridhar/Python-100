{
 "cells": [
  {
   "cell_type": "markdown",
   "metadata": {},
   "source": [
    "NUMBERS"
   ]
  },
  {
   "cell_type": "code",
   "execution_count": null,
   "metadata": {},
   "outputs": [],
   "source": []
  },
  {
   "cell_type": "code",
   "execution_count": null,
   "metadata": {},
   "outputs": [],
   "source": []
  },
  {
   "cell_type": "markdown",
   "metadata": {},
   "source": [
    "2.Find e to the Nth Digit\n",
    "\n",
    "\n",
    "\n"
   ]
  },
  {
   "cell_type": "code",
   "execution_count": null,
   "metadata": {},
   "outputs": [],
   "source": [
    "#for 51 values \n",
    "\n",
    "import math\n",
    "from decimal import *\n",
    "#for 51 values \n",
    "sumof = Decimal(math.e)\n",
    "print(f'total dig of 51 is:{sumof} ')\n"
   ]
  },
  {
   "cell_type": "code",
   "execution_count": null,
   "metadata": {},
   "outputs": [],
   "source": [
    "#for range of 1-15\n",
    "\n",
    "\n",
    "import math \n",
    "n= int(input(' Number from 1-15 :'))\n",
    "#for range of 1-15\n",
    "\n",
    "if n<16 and n>0:\n",
    "    print(round(math.e,n))\n",
    "else:\n",
    "    print('Next time Type between 1-15')\n",
    "   \n"
   ]
  },
  {
   "cell_type": "code",
   "execution_count": 1,
   "metadata": {},
   "outputs": [
    {
     "name": "stdout",
     "output_type": "stream",
     "text": [
      "Please type number between 0-1000: 77\n"
     ]
    },
    {
     "ename": "NameError",
     "evalue": "name 'Decimal' is not defined",
     "output_type": "error",
     "traceback": [
      "\u001b[1;31m---------------------------------------------------------------------------\u001b[0m",
      "\u001b[1;31mNameError\u001b[0m                                 Traceback (most recent call last)",
      "\u001b[1;32m<ipython-input-1-094a6ccafc76>\u001b[0m in \u001b[0;36m<module>\u001b[1;34m\u001b[0m\n\u001b[0;32m     43\u001b[0m \u001b[0mn\u001b[0m \u001b[1;33m=\u001b[0m \u001b[0mint\u001b[0m\u001b[1;33m(\u001b[0m\u001b[0minput\u001b[0m\u001b[1;33m(\u001b[0m\u001b[1;34m\"Please type number between 0-1000: \"\u001b[0m\u001b[1;33m)\u001b[0m\u001b[1;33m)\u001b[0m\u001b[1;33m\u001b[0m\u001b[1;33m\u001b[0m\u001b[0m\n\u001b[0;32m     44\u001b[0m \u001b[1;32mif\u001b[0m \u001b[0mn\u001b[0m \u001b[1;33m>=\u001b[0m \u001b[1;36m0\u001b[0m \u001b[1;32mand\u001b[0m \u001b[0mn\u001b[0m \u001b[1;33m<=\u001b[0m \u001b[1;36m1000\u001b[0m\u001b[1;33m:\u001b[0m\u001b[1;33m\u001b[0m\u001b[1;33m\u001b[0m\u001b[0m\n\u001b[1;32m---> 45\u001b[1;33m     \u001b[0mprint\u001b[0m\u001b[1;33m(\u001b[0m\u001b[0mstr\u001b[0m\u001b[1;33m(\u001b[0m\u001b[0mcalculate\u001b[0m\u001b[1;33m(\u001b[0m\u001b[0mn\u001b[0m\u001b[1;33m)\u001b[0m\u001b[1;33m)\u001b[0m\u001b[1;33m[\u001b[0m\u001b[1;33m:\u001b[0m\u001b[0mn\u001b[0m \u001b[1;33m+\u001b[0m \u001b[1;36m1\u001b[0m\u001b[1;33m]\u001b[0m\u001b[1;33m)\u001b[0m\u001b[1;33m\u001b[0m\u001b[1;33m\u001b[0m\u001b[0m\n\u001b[0m\u001b[0;32m     46\u001b[0m \u001b[1;33m\u001b[0m\u001b[0m\n\u001b[0;32m     47\u001b[0m \u001b[1;33m\u001b[0m\u001b[0m\n",
      "\u001b[1;32m<ipython-input-1-094a6ccafc76>\u001b[0m in \u001b[0;36mcalculate\u001b[1;34m(n)\u001b[0m\n\u001b[0;32m     37\u001b[0m         \u001b[0ma\u001b[0m\u001b[1;33m=\u001b[0m\u001b[1;33m(\u001b[0m\u001b[0mnumerator\u001b[0m\u001b[1;33m/\u001b[0m\u001b[0mdenominator\u001b[0m\u001b[1;33m)\u001b[0m\u001b[1;33m\u001b[0m\u001b[1;33m\u001b[0m\u001b[0m\n\u001b[0;32m     38\u001b[0m         \u001b[1;31m#print(a)\u001b[0m\u001b[1;33m\u001b[0m\u001b[1;33m\u001b[0m\u001b[1;33m\u001b[0m\u001b[0m\n\u001b[1;32m---> 39\u001b[1;33m         \u001b[0me\u001b[0m \u001b[1;33m+=\u001b[0m\u001b[0mDecimal\u001b[0m\u001b[1;33m(\u001b[0m\u001b[0mnumerator\u001b[0m \u001b[1;33m/\u001b[0m \u001b[0mdenominator\u001b[0m\u001b[1;33m)\u001b[0m\u001b[1;33m\u001b[0m\u001b[1;33m\u001b[0m\u001b[0m\n\u001b[0m\u001b[0;32m     40\u001b[0m     \u001b[1;32mreturn\u001b[0m \u001b[0me\u001b[0m\u001b[1;33m\u001b[0m\u001b[1;33m\u001b[0m\u001b[0m\n\u001b[0;32m     41\u001b[0m \u001b[1;33m\u001b[0m\u001b[0m\n",
      "\u001b[1;31mNameError\u001b[0m: name 'Decimal' is not defined"
     ]
    }
   ],
   "source": [
    "# find e to nth digit by brothers' formulae: http://www.intmath.com/exponential-logarithmic-functions/calculating-e.php\n",
    "'''\n",
    "Recently, new formulae have been developed by Brothers (2004) which make the calculation of e very efficient.\n",
    "same result as Euler's Algorithm \n",
    "\n",
    "\n",
    "\n",
    "e= \n",
    "6\n",
    "∑((2n+1)!/2n+2)=2.718281828\n",
    "n=0\n",
    "'''\n",
    "\n",
    "\n",
    "\n",
    "import decimal\n",
    "\n",
    "\n",
    "def factorial(n):\n",
    "    factorials = [1]\n",
    "    for i in range(1, n + 1):\n",
    "        factorials.append(factorials[i - 1] * i)\n",
    "        #print(factorials, i)\n",
    "    return factorials\n",
    "\n",
    "\n",
    "def calculate(n):\n",
    "    decimal.getcontext().prec = n + 1\n",
    "    e = 2\n",
    "    factorials = factorial(2 * n + 1)\n",
    "    #print('f',factorials)\n",
    "    for i in range(1, n + 1):\n",
    "        numerator = 2 * i + 2\n",
    "        #print('n',numerator)\n",
    "        denominator = factorials[2 * i + 1]\n",
    "        #print('d',denominator)\n",
    "        a=(numerator/denominator)\n",
    "        #print(a)\n",
    "        e +=Decimal(numerator / denominator)\n",
    "    return e\n",
    "\n",
    "\n",
    "n = int(input(\"Please type number between 0-1000: \"))\n",
    "if n >= 0 and n <= 1000:\n",
    "    print(str(calculate(n))[:n + 1])\n",
    "\n",
    "     \n",
    "\n"
   ]
  },
  {
   "cell_type": "code",
   "execution_count": null,
   "metadata": {},
   "outputs": [],
   "source": []
  },
  {
   "cell_type": "markdown",
   "metadata": {},
   "source": []
  },
  {
   "cell_type": "code",
   "execution_count": null,
   "metadata": {},
   "outputs": [],
   "source": []
  },
  {
   "cell_type": "markdown",
   "metadata": {},
   "source": [
    "3. Fibonacci Sequence"
   ]
  },
  {
   "cell_type": "code",
   "execution_count": null,
   "metadata": {},
   "outputs": [],
   "source": [
    "number = int(input('enter number for Fibonacci Series :  '))\n",
    "if number <1 and number<0:\n",
    "    print('Sorry enter number greater than 1')\n",
    "elif number == 0:\n",
    "    print (f'the seq is {number}')\n",
    "    \n",
    "else:\n",
    "    a,b=0,1\n",
    "    print (a)\n",
    "    print (b)\n",
    "\n",
    "    for i in range(1, number+1 ):\n",
    "        total = a + b\n",
    "        a=b\n",
    "        b=total\n",
    "        print (total)\n",
    "    "
   ]
  },
  {
   "cell_type": "code",
   "execution_count": null,
   "metadata": {},
   "outputs": [],
   "source": []
  },
  {
   "cell_type": "code",
   "execution_count": null,
   "metadata": {},
   "outputs": [],
   "source": []
  },
  {
   "cell_type": "markdown",
   "metadata": {},
   "source": [
    "4. Prime Factors from the given range"
   ]
  },
  {
   "cell_type": "code",
   "execution_count": null,
   "metadata": {},
   "outputs": [],
   "source": [
    "import math\n",
    "# prime\n",
    "def pf(n):\n",
    "   # check is it even or not\n",
    "   while n % 2 == 0:\n",
    "        print (2),\n",
    "        n = n / 2\n",
    "   # n becomes odd\n",
    "   for i in range(3,int(math.sqrt(n))+1):\n",
    "        \n",
    "      # while i divides n\n",
    "        while n % i== 0:\n",
    "            print (i)\n",
    "            n = n / i\n",
    "   # if n is a prime\n",
    "   if n > 2:\n",
    "        print (n)\n",
    "        \n",
    "        \n",
    "n = int(input('enter the number to get all prime in range: '))\n",
    "pf(n)"
   ]
  },
  {
   "cell_type": "code",
   "execution_count": null,
   "metadata": {},
   "outputs": [],
   "source": []
  },
  {
   "cell_type": "code",
   "execution_count": null,
   "metadata": {},
   "outputs": [],
   "source": []
  },
  {
   "cell_type": "markdown",
   "metadata": {},
   "source": [
    "5. To find next prime number"
   ]
  },
  {
   "cell_type": "code",
   "execution_count": null,
   "metadata": {},
   "outputs": [],
   "source": [
    "def prime_check(x):\n",
    "    \"\"\"\n",
    "    Checks whether the given\n",
    "    number x is prime or not\n",
    "    \"\"\"\n",
    "\n",
    "    if x == 2:\n",
    "        return True\n",
    "\n",
    "    if x % 2 == 0:\n",
    "        return False\n",
    "\n",
    "    for i in range(3, int(x**0.5)+1, 2):\n",
    "        if x % i == 0:\n",
    "            return False\n",
    "\n",
    "    return True\n",
    "\n",
    "\n",
    "def next_prime(currentPrime):\n",
    "    \"\"\"\n",
    "    Returns the next prime\n",
    "    after the currentPrime\n",
    "    \"\"\"\n",
    "\n",
    "    newPrime = currentPrime + 1\n",
    "\n",
    "    while True:\n",
    "\n",
    "        if not prime_check(newPrime):\n",
    "            newPrime += 1\n",
    "        else:\n",
    "            break\n",
    "\n",
    "    return newPrime\n",
    "\n",
    "\n",
    "def main():  # Wrapper function\n",
    "\n",
    "    currentPrime = 2\n",
    "\n",
    "    while True:\n",
    "\n",
    "        answer = input('Would you like to see the next prime? (Y/N) ')\n",
    "\n",
    "        if answer.lower().startswith('y'):\n",
    "            print(currentPrime)\n",
    "            currentPrime = next_prime(currentPrime)\n",
    "\n",
    "        else:\n",
    "            break\n",
    "\n",
    "main()"
   ]
  },
  {
   "cell_type": "code",
   "execution_count": null,
   "metadata": {},
   "outputs": [],
   "source": []
  },
  {
   "cell_type": "code",
   "execution_count": null,
   "metadata": {},
   "outputs": [],
   "source": []
  },
  {
   "cell_type": "markdown",
   "metadata": {},
   "source": [
    "(6)Find Cost of Tile to Cover W x H Floor - Calculate the total cost of tile it would take to cover a floor plan of width and height, using a cost entered by the user."
   ]
  },
  {
   "cell_type": "code",
   "execution_count": null,
   "metadata": {},
   "outputs": [],
   "source": [
    "import math\n",
    "Length = int(input('enter the length of floor : '))\n",
    "Width = int(input('enter the width of floor : '))\n",
    "Cost_per_tile=int(input('enter the length of floor : '))\n",
    "\n",
    "Total_tiles_count= (Length * Width)/Cost_per_tile\n",
    "Total_tiles_count=math.ceil(Total_tiles_count)\n",
    "\n",
    "print(f'Total tiles required to fill the area of floor is with this particular tile is {Total_tiles_count}tiles,of length{Length} and width of {Width}')\n",
    "\n",
    "\n",
    "Total_cost = Total_tiles_count * Cost_per_tile\n",
    "\n",
    "print(f'Total cost for covering this area with this type of tile is {Total_cost}/- INR')"
   ]
  },
  {
   "cell_type": "code",
   "execution_count": null,
   "metadata": {},
   "outputs": [],
   "source": []
  },
  {
   "cell_type": "code",
   "execution_count": null,
   "metadata": {},
   "outputs": [],
   "source": []
  },
  {
   "cell_type": "markdown",
   "metadata": {},
   "source": [
    "(7)Mortage Calculator"
   ]
  },
  {
   "cell_type": "code",
   "execution_count": null,
   "metadata": {},
   "outputs": [],
   "source": [
    "#A\n",
    "#with package\n",
    "\n",
    "from mortgage import Loan\n",
    "principal= int(input('enter the total loan amount needed'))\n",
    "interest= float(input('enter the total interest rate for the amount needed'))\n",
    "term = int(input('enter the total duration in months for loan amount needed'))\n",
    "\n",
    "\n",
    "loan = Loan(principal, interest, term)\n",
    "loan.summarize"
   ]
  },
  {
   "cell_type": "markdown",
   "metadata": {},
   "source": []
  },
  {
   "cell_type": "markdown",
   "metadata": {},
   "source": [
    "Formula for mortage is \n",
    "= -PMT(6.5 / 100 / 12, 30 * 12, 200000)\n",
    "= ((6.5 / 100 / 12) * 200000) / (1 - ((1 + (6.5 / 100 / 12)) ^ (-30 * 12)))\n",
    "= 1264.14\n",
    "The following derivation of this formula illustrates how fixed-rate mortgage loans work. The amount owed on the loan at the end of every month equals the amount owed from the previous month, plus the interest on this amount, minus the fixed amount paid every month. This fact results in the debt schedule:\n",
    "\n",
    "Amount owed at initiation: {\\displaystyle P}P\n",
    "Amount owed after 1 month: {\\displaystyle (1+r)P-c}(1+r)P-c\n",
    "Amount owed after 2 months: {\\displaystyle (1+r)((1+r)P-c)-c=(1+r)^{2}P-(1+(1+r))c}(1+r)((1+r)P-c)-c=(1+r)^{2}P-(1+(1+r))c\n",
    "Amount owed after 3 months: {\\displaystyle (1+r)((1+r)((1+r)P-c)-c)-c=(1+r)^{3}P-(1+(1+r)+(1+r)^{2})c}(1+r)((1+r)((1+r)P-c)-c)-c=(1+r)^{3}P-(1+(1+r)+(1+r)^{2})c\n",
    ". . . . . . . . . . . . . . . . . . . . . . . . . . . . . . . . . . . . . . . . . . . . . . . . . .\n",
    "Amount owed after N months: {\\displaystyle (1+r)^{N}P-(1+(1+r)+(1+r)^{2}+\\cdots +(1+r)^{N-1})c}(1+r)^{N}P-(1+(1+r)+(1+r)^{2}+\\cdots +(1+r)^{{N-1}})c\n",
    "\n",
    "https://en.wikipedia.org/wiki/Mortgage_calculator"
   ]
  },
  {
   "cell_type": "code",
   "execution_count": null,
   "metadata": {},
   "outputs": [],
   "source": [
    "#B\n",
    "'''WithOut Library'''\n",
    "\n",
    "'''Mortgage Calculator \n",
    "Calculate the monthly payments of a fixed term mortgage \n",
    "over given Nth terms at a given interest rate. Also figure \n",
    "out how long it will take the user to pay back the loan.\n",
    "'''\n",
    "months = int(input(\"Enter mortgage term (in months): \"))\n",
    "rate = float(input(\"Enter interest rate: \"))\n",
    "loan = float(input(\"Enter loan value: \"))\n",
    "\n",
    "monthly_rate = rate / 100 / 12\n",
    "X =(1 - (1 + monthly_rate)**(-months))\n",
    "\n",
    "payment = (monthly_rate / X) * loan\n",
    "print(f'Monthly pay for the loan of {loan}/- INR , at the interestrate of{rate}% is {payment}/- INR')\n",
    "\n"
   ]
  },
  {
   "cell_type": "code",
   "execution_count": null,
   "metadata": {},
   "outputs": [],
   "source": []
  },
  {
   "cell_type": "code",
   "execution_count": null,
   "metadata": {},
   "outputs": [],
   "source": []
  },
  {
   "cell_type": "markdown",
   "metadata": {},
   "source": [
    " (8) Change Return Program"
   ]
  },
  {
   "cell_type": "code",
   "execution_count": null,
   "metadata": {},
   "outputs": [],
   "source": [
    "import math\n",
    "Total = float(input('enter bill total: '))\n",
    "cashrecv=float(input('enter recived total: '))\n",
    "change_to_given = 0.00\n",
    "if cashrecv > Total:\n",
    "    change_to_given = cashrecv - Total\n",
    "    print(f'the change must be given is {change_to_given}/- INR')\n",
    "else:\n",
    "    print('Fund not enough')"
   ]
  },
  {
   "cell_type": "code",
   "execution_count": null,
   "metadata": {},
   "outputs": [],
   "source": []
  },
  {
   "cell_type": "code",
   "execution_count": null,
   "metadata": {},
   "outputs": [],
   "source": []
  },
  {
   "cell_type": "markdown",
   "metadata": {},
   "source": [
    "(9 A)Binary to Decimal and Back Converter "
   ]
  },
  {
   "cell_type": "code",
   "execution_count": 5,
   "metadata": {},
   "outputs": [
    {
     "name": "stdout",
     "output_type": "stream",
     "text": [
      "110"
     ]
    }
   ],
   "source": [
    "#A D2B\n",
    "def D2B(num):\n",
    "    if num > 1:\n",
    "        D2B(num // 2)\n",
    "        print( num % 2 ,end = \"\")\n",
    "    \n",
    "#D2B(int(input('enter the val for D2B:  ')))\n",
    "D2B(14)"
   ]
  },
  {
   "cell_type": "markdown",
   "metadata": {},
   "source": [
    "(9 B)Binary to Decimal and Back Converter "
   ]
  },
  {
   "cell_type": "code",
   "execution_count": 2,
   "metadata": {},
   "outputs": [
    {
     "name": "stdout",
     "output_type": "stream",
     "text": [
      "14 is the decimal number of  01110\n"
     ]
    }
   ],
   "source": [
    "#B B2D\n",
    "def B2D(n):\n",
    "    while True:\n",
    "        try:\n",
    "            print(f\"{(int(n,2))} is the decimal number of {n}\")\n",
    "        except:\n",
    "            print(\"Looks like you did not enter an string 0 n 1!\")\n",
    "            continue\n",
    "        else:\n",
    "            #print(\"Yep that's an string of 0 and 1!\")\n",
    "            break\n",
    "        finally:\n",
    "            \n",
    "            break\n",
    "#B2D(input(\" 0's and 1's in string: \"))\n",
    "B2D(\" 01110\")\n",
    "       "
   ]
  },
  {
   "cell_type": "code",
   "execution_count": null,
   "metadata": {},
   "outputs": [],
   "source": []
  },
  {
   "cell_type": "code",
   "execution_count": null,
   "metadata": {},
   "outputs": [],
   "source": []
  },
  {
   "cell_type": "markdown",
   "metadata": {},
   "source": [
    "(10)Calculator"
   ]
  },
  {
   "cell_type": "code",
   "execution_count": null,
   "metadata": {},
   "outputs": [],
   "source": [
    "#Basic Calc and sci-calc\n",
    "choice = input('enter Basic or Sci')\n",
    "\n",
    "if choice.lower().startswith('b'):\n",
    "    \n",
    "    print('\\n1-Add, \\n2-sub, \\n3-mul , \\n4-div')\n",
    "    op = int(input('enter 1 forAdd, 2 for sub, 3 for mul , 4 for div :  '))\n",
    "\n",
    "    while op:\n",
    "        if op in (1,2,3,4):\n",
    "            n1 = float(input ('num 1 :'))\n",
    "            n2 = float(input ('num 2 :'))\n",
    "\n",
    "            if op == 1:\n",
    "                print (n1 + n2)\n",
    "                break\n",
    "            elif op == 2:\n",
    "                print (n1 - n2)\n",
    "                break\n",
    "            elif op == 3:\n",
    "                print (n1 * n2)\n",
    "                break\n",
    "            elif op == 4:\n",
    "                print (n1 / n2)\n",
    "                break\n",
    "        else:\n",
    "            print('invalid i/o  choose b/w 1-4')\n",
    "            break\n",
    "else:\n",
    "    print('1-sine, \\n2-cos, \\n3-tan , \\n4-cosh, \\n5-sinh, \\n6-tanh, \\n7-sqrt')\n",
    "    op = int(input('enter 1 for sin, 2 for cos, 3 for tan , 4 for cosh ,5 for sinh, 6 for tanh,7 for sqrt '))\n",
    "\n",
    "    while op:\n",
    "        if op in range(1,8):\n",
    "\n",
    "\n",
    "            if op == 1:\n",
    "\n",
    "                n1 = float(input ('num 1 :'))\n",
    "                #n2 = float(input ('num 2 :'))\n",
    "                print (math.sin(n1))\n",
    "                break\n",
    "            elif op == 2:\n",
    "                n1 = float(input ('num 1 :'))\n",
    "                #n2 = float(input ('num 2 :'))\n",
    "                print (math.cos(n1))          \n",
    "                break\n",
    "            elif op == 3:\n",
    "                n1 = float(input ('num 1 :'))\n",
    "                #n2 = float(input ('num 2 :'))\n",
    "                print (math.tan(n1))       \n",
    "                break\n",
    "            elif op == 4:\n",
    "                n1 = float(input ('num 1 :'))\n",
    "                #n2 = float(input ('num 2 :'))\n",
    "                print (math.cosh(n1))\n",
    "                break\n",
    "            elif op == 5:\n",
    "                n1 = float(input ('num 1 :'))\n",
    "                #n2 = float(input ('num 2 :'))\n",
    "                print (math.sinh(n1))          \n",
    "                break\n",
    "            elif op == 6:\n",
    "                n1 = float(input ('num 1 :'))\n",
    "                #n2 = float(input ('num 2 :'))\n",
    "                print (math.tanh(n1))       \n",
    "                break\n",
    "            elif op == 7:\n",
    "                n1 = float(input ('num 1 :'))\n",
    "                #n2 = float(input ('num 2 :'))\n",
    "                print (math.sqrt(n1))\n",
    "                break\n",
    "        else:\n",
    "            print('invalid i/o  choose b/w 1-7')\n",
    "            break\n",
    "\n",
    "\n"
   ]
  },
  {
   "cell_type": "code",
   "execution_count": null,
   "metadata": {},
   "outputs": [],
   "source": []
  },
  {
   "cell_type": "code",
   "execution_count": null,
   "metadata": {},
   "outputs": [],
   "source": []
  },
  {
   "cell_type": "markdown",
   "metadata": {},
   "source": [
    "(11)Unit Converter"
   ]
  },
  {
   "cell_type": "code",
   "execution_count": null,
   "metadata": {},
   "outputs": [],
   "source": [
    "from forex_python.converter import CurrencyRates\n",
    "\n",
    "def TEMP(x):\n",
    "    temp = x #input('Enter \\t1 - C to F \\n2 - F to C \\n3 - C to K ')\n",
    "    if temp == '1':\n",
    "        val = float(input('Enter C value to change it to F:'))\n",
    "        res = 9.0 / 5.0 * val + 32\n",
    "        print(res,'F' )\n",
    "    elif temp == '2':\n",
    "        val = float(input('Enter F value to change it to C:'))\n",
    "        res = (val - 32)  / 9.0 * 5.0\n",
    "        print (res, 'C')\n",
    "    elif temp =='3':\n",
    "        val = float(input('Enter C value to change it to K:'))\n",
    "        res = val + 273.15\n",
    "        print (res, 'K')\n",
    "\n",
    "def CUR(x):\n",
    "    cur = x\n",
    "    c = CurrencyRates()\n",
    "    if cur == '1':\n",
    "        quantity = float(input('enter the count of USD to INR'))\n",
    "        a=c.get_rate('USD', 'INR')\n",
    "        a *= quantity\n",
    "        print (a)\n",
    "    if cur == '2':\n",
    "        quantity = float(input('enter the count of INR to USD'))\n",
    "        a=c.get_rate('INR', 'USD')\n",
    "        a *= quantity\n",
    "        print (a)\n",
    "    if cur == '3':\n",
    "        quantity = float(input('enter the count of INR to AUD'))\n",
    "        a=c.get_rate('INR', 'AUD')\n",
    "        a *= quantity\n",
    "        print (a)\n",
    "    if cur == '4':\n",
    "        quantity = float(input('enter the count of AUD to INR'))\n",
    "        a=c.get_rate('AUD', 'INR')\n",
    "        a *= quantity\n",
    "        print (a)\n",
    "\n",
    "    \n",
    "def MASS():\n",
    "    \n",
    "    types = {\"k\": 1000, \"g\": 1,\"mg\":0.1}\n",
    "    unit1 = input (\"Which unit would you like to convert from ['k','g','mg']: \")\n",
    "    unit2 = input (\"Which unit would you like to convert to['k','g','mg']: \")\n",
    "    num1 = int(input (\"Enter your value: \" ))\n",
    "\n",
    "\n",
    "    unit1 , unit2 = types[unit1],types[unit2]\n",
    "    val = num1 * (unit1/unit2)\n",
    "    print(val)\n",
    "\n",
    "                \n",
    "material = input('Enter the type of conversion you need? \\n1 - Temp \\n2 - Currency \\n3 - Mass: \\n')   \n",
    "if material == '1':\n",
    "        op = input('Enter \\t1 - C to F \\n2 - F to C \\n3 - C to K ')\n",
    "        TEMP(op)\n",
    "elif material == '2':\n",
    "        op = input('Enter \\t1 - $ to INR \\n2 - INR to $ \\n3 - INR to AUD \\n4 - AUD to INR')\n",
    "        CUR(op)\n",
    "elif material == '3':\n",
    "        MASS()        \n",
    "    \n",
    "        \n",
    "        \n"
   ]
  },
  {
   "cell_type": "code",
   "execution_count": null,
   "metadata": {},
   "outputs": [],
   "source": []
  },
  {
   "cell_type": "code",
   "execution_count": null,
   "metadata": {},
   "outputs": [],
   "source": []
  },
  {
   "cell_type": "markdown",
   "metadata": {},
   "source": [
    "(12)Timer"
   ]
  },
  {
   "cell_type": "code",
   "execution_count": null,
   "metadata": {},
   "outputs": [],
   "source": [
    "  \n",
    "import winsound, time, os, platform\n",
    "\n",
    "\n",
    "def sound():\n",
    "\n",
    "    for i in range(2): # Number of repeats\n",
    "\n",
    "        for j in range(9): # Number of beeps\n",
    "            #winsound.Beep(10000,2)#Beep \n",
    "            winsound.MessageBeep(-1) # Sound played\n",
    "\n",
    "        time.sleep(2) # How long between beeps\n",
    "\n",
    "def timer(n):\n",
    "\n",
    "    \n",
    "    print(\"Wait time:\", n, \"seconds.\")\n",
    "    time.sleep(n) # Waits 'n' seconds before playing sound\n",
    "\n",
    "    sound()\n",
    "\n",
    "duration = 10 #int(input('enter the duration in seconds: '))\n",
    "timer(duration)"
   ]
  },
  {
   "cell_type": "code",
   "execution_count": null,
   "metadata": {},
   "outputs": [],
   "source": []
  },
  {
   "cell_type": "code",
   "execution_count": null,
   "metadata": {},
   "outputs": [],
   "source": []
  },
  {
   "cell_type": "markdown",
   "metadata": {},
   "source": [
    "(13)Alarm Clock"
   ]
  },
  {
   "cell_type": "code",
   "execution_count": null,
   "metadata": {},
   "outputs": [],
   "source": [
    "import datetime\n",
    "import winsound, time, os, platform\n",
    "\n",
    "hour = 1 #int(input('enter the hour : '))\n",
    "minu = 9 #int(input('enter the min of the hour : '))\n",
    "ampm = 'pm' #input(\"enter 'am' or 'pm' : \" )\n",
    "\n",
    "if ampm == 'pm':\n",
    "    hour = hour + 12\n",
    "\n",
    "\n",
    "\n",
    "\n",
    "def sound():\n",
    "\n",
    "    for i in range(2): # Number of repeats\n",
    "\n",
    "        for j in range(9): # Number of beeps\n",
    "            #winsound.Beep(10000,2)#Beep \n",
    "            #winsound.MessageBeep(-1) # Sound played\n",
    "            winsound.PlaySound(\"alert5.wav\",winsound.SND_FILENAME)\n",
    "        print(\"Press Ctrl-C to stop\")\n",
    "        \n",
    "        time.sleep(2) # How long between beeps   \n",
    "    \n",
    "while True:\n",
    "    if (hour == datetime.datetime.now().hour and minu == datetime.datetime.now().minute):\n",
    "        sound()\n",
    "        break\n",
    "    \n",
    "    "
   ]
  },
  {
   "cell_type": "code",
   "execution_count": null,
   "metadata": {},
   "outputs": [],
   "source": []
  },
  {
   "cell_type": "code",
   "execution_count": null,
   "metadata": {},
   "outputs": [],
   "source": []
  },
  {
   "cell_type": "markdown",
   "metadata": {},
   "source": [
    "(14)Distance Between Two Cities"
   ]
  },
  {
   "cell_type": "code",
   "execution_count": 44,
   "metadata": {},
   "outputs": [
    {
     "name": "stdout",
     "output_type": "stream",
     "text": [
      "Accurate Distance in KM is: 28.431854108325314 km\n",
      "Max KM 29 km\n",
      "Accurate Distance in Mt is: 28431.854108325315 mt\n",
      "Max meters 29000 mt\n"
     ]
    }
   ],
   "source": [
    "'''\n",
    "HAVERSINE FORMULA\n",
    "\n",
    "'''\n",
    "\n",
    "import math\n",
    "# approximate radius of earth in km\n",
    "R = 6373.0 #km\n",
    "la1,lo1 = 43.33,52.4 #float(input('lat1:')),float(input('lon1:'))\n",
    "la2,lo2 = 43.12,52.2 #float(input('lat2:')),float(input('lon2:'))\n",
    "lat1 = math.radians(la1)\n",
    "lon1 = math.radians(lo1)\n",
    "lat2 = math.radians(la2)\n",
    "lon2 = math.radians(lo2)\n",
    "\n",
    "dlon = lon2 - lon1\n",
    "dlat = lat2 - lat1\n",
    "\n",
    "'''HAVERSINE FORMULA'''\n",
    "a = math.sin(dlat / 2)**2 + math.cos(lat1) * math.cos(lat2) * math.sin(dlon / 2)**2\n",
    "c = 2 * math.atan2(math.sqrt(a), math.sqrt(1 - a))\n",
    "\n",
    "distance = R * c\n",
    "\n",
    "print(\"Accurate Distance in KM is:\", distance ,\"km\")\n",
    "print(\"Max KM\", math.ceil(distance), \"km\")\n",
    "print(\"Accurate Distance in Mt is:\", distance*1000 ,\"mt\")\n",
    "print(\"Max meters\", math.ceil(distance)*1000, \"mt\")"
   ]
  },
  {
   "cell_type": "code",
   "execution_count": null,
   "metadata": {},
   "outputs": [],
   "source": []
  },
  {
   "cell_type": "code",
   "execution_count": null,
   "metadata": {},
   "outputs": [],
   "source": []
  },
  {
   "cell_type": "markdown",
   "metadata": {},
   "source": [
    "(15) Credit Card Validator"
   ]
  },
  {
   "cell_type": "code",
   "execution_count": 40,
   "metadata": {},
   "outputs": [
    {
     "name": "stdout",
     "output_type": "stream",
     "text": [
      "YES! :-) Its a valid Card\n"
     ]
    }
   ],
   "source": [
    "import re\n",
    "\n",
    "seq = \"2465-3232-3233-1323\" #input('Enter card in XXXX-XXXX-XXXX-XXXX format :  ')\n",
    "x = re.match(\"[23456]{1}[4560]{3}-[0-9]{4}-[0-9]{4}-[0-9]{4}$\",seq)\n",
    "if x:\n",
    "    print(\"YES! :-) Its a valid Card\")\n",
    "else:\n",
    "    print(\"No :-( Its Not a Valid Card\")\n"
   ]
  },
  {
   "cell_type": "code",
   "execution_count": null,
   "metadata": {},
   "outputs": [],
   "source": []
  },
  {
   "cell_type": "code",
   "execution_count": null,
   "metadata": {},
   "outputs": [],
   "source": []
  },
  {
   "cell_type": "markdown",
   "metadata": {},
   "source": [
    "(16)Tax Calculator"
   ]
  },
  {
   "cell_type": "code",
   "execution_count": 22,
   "metadata": {},
   "outputs": [
    {
     "name": "stdout",
     "output_type": "stream",
     "text": [
      "Cost of the Product is 33750.0 /- INR at the rate of 12.5\n"
     ]
    }
   ],
   "source": [
    "rate = 12.5 # float(input('Enter Tax Rate: '))\n",
    "cost = 30000 #int(input('Enter Cost of Products/Bill: '))\n",
    "def taxcal(rate,cost):\n",
    "        Bill_amount = cost + (cost * (rate/100))\n",
    "        return Bill_amount\n",
    "Bill =  taxcal(rate,cost)\n",
    "print(f'Cost of the Product is {Bill} /- INR at the rate of {rate}')"
   ]
  },
  {
   "cell_type": "code",
   "execution_count": null,
   "metadata": {},
   "outputs": [],
   "source": []
  },
  {
   "cell_type": "code",
   "execution_count": null,
   "metadata": {},
   "outputs": [],
   "source": []
  },
  {
   "cell_type": "markdown",
   "metadata": {},
   "source": [
    "(17)Factorial of Numbers"
   ]
  },
  {
   "cell_type": "code",
   "execution_count": 19,
   "metadata": {},
   "outputs": [
    {
     "name": "stdout",
     "output_type": "stream",
     "text": [
      "The Factorial of the Number 5 is 120 \n"
     ]
    }
   ],
   "source": [
    "Fact = 1\n",
    "Number = 5 #int(input('Enter the Number: '))\n",
    "\n",
    "if Number == 0:\n",
    "    pass\n",
    "else:\n",
    "    \n",
    "\n",
    "    for i in range(1,Number+1):\n",
    "        Fact *= i\n",
    "    \n",
    "print(f'The Factorial of the Number {Number} is {Fact} ')\n"
   ]
  },
  {
   "cell_type": "code",
   "execution_count": null,
   "metadata": {},
   "outputs": [],
   "source": []
  },
  {
   "cell_type": "code",
   "execution_count": null,
   "metadata": {},
   "outputs": [],
   "source": []
  },
  {
   "cell_type": "markdown",
   "metadata": {},
   "source": [
    "(18)Linear Alg Using Classes"
   ]
  },
  {
   "cell_type": "code",
   "execution_count": 18,
   "metadata": {},
   "outputs": [
    {
     "name": "stdout",
     "output_type": "stream",
     "text": [
      "-11 -22\n",
      "22 11\n",
      "33\n",
      "44 66\n",
      "-22 -22\n"
     ]
    }
   ],
   "source": [
    "import math\n",
    "\n",
    "class arith:\n",
    "    def __init__(self,a2,b2):\n",
    "        self.a2 = a2\n",
    "        self.b2 = b2\n",
    "    def add (self):\n",
    "        added= self.a2.a1 + self.a2.b1\n",
    "        print(added)\n",
    "    def add2equ(self):\n",
    "        added1 = self.a2.a1 + self.b2.a1\n",
    "        added2 = self.a2.b1 + self.b2.b1\n",
    "        print(added1 ,added2)\n",
    "    def sub2equ(self):\n",
    "        sub1 = self.a2.a1 - self.b2.a1\n",
    "        sub2 = self.a2.b1 - self.b2.b1\n",
    "        print(sub1 ,sub2)\n",
    "    '''\n",
    "    def mul/div/trig/matrix mulp etc\n",
    "    \n",
    "    '''\n",
    "        \n",
    "\n",
    "\n",
    "\n",
    "\n",
    "class operations:\n",
    "    def __init__(self,a1,b1):\n",
    "        self.a1 = a1\n",
    "        self.b1 = b1\n",
    "    def negation(self):\n",
    "        a11 = -(self.a1)\n",
    "        b11 = -(self.b1)\n",
    "        print(a11 , b11)\n",
    "    def inversion(self):\n",
    "        t = self.a1\n",
    "        a12 = self.b1\n",
    "        b12 = self.a1\n",
    "        print(a12 , b12)\n",
    "\n",
    "a1,b1,a2,b2 = 11,22,33,44 # int(input('a1:')),int(input('b1:')),int(input('a2:')),int(input('b2:')),\n",
    "\n",
    "n1 = operations(a1,b1)\n",
    "\n",
    "n2 = operations(a2,b2)\n",
    "\n",
    "n1.negation()\n",
    "n1.inversion()\n",
    "\n",
    "#n2 is needed only for linear usage\n",
    "a = arith(n1,n2)\n",
    "a.add()\n",
    "a.add2equ()\n",
    "a.sub2equ()"
   ]
  },
  {
   "cell_type": "code",
   "execution_count": null,
   "metadata": {},
   "outputs": [],
   "source": []
  },
  {
   "cell_type": "code",
   "execution_count": null,
   "metadata": {},
   "outputs": [],
   "source": []
  },
  {
   "cell_type": "markdown",
   "metadata": {},
   "source": [
    "(19)Happy Number"
   ]
  },
  {
   "cell_type": "code",
   "execution_count": 17,
   "metadata": {},
   "outputs": [
    {
     "name": "stdout",
     "output_type": "stream",
     "text": [
      "3 rem o/p\n",
      "9 sum1 o/p\n",
      "1 num o/p\n",
      "1 rem o/p\n",
      "10 sum1 o/p\n",
      "0 num o/p\n",
      "10 while loop res\n",
      "0 rem o/p\n",
      "0 sum1 o/p\n",
      "1 num o/p\n",
      "1 rem o/p\n",
      "1 sum1 o/p\n",
      "0 num o/p\n",
      "1 while loop res\n",
      "13 is happy number \n"
     ]
    }
   ],
   "source": [
    "'''\n",
    "A number is said to be happy if it yields 1 when replaced by the sum of squares\n",
    "of its digits repeatedly. If this process results in an endless cycle of numbers\n",
    "containing 4, then the number will be an unhappy number.\n",
    "\n",
    "Let's understand by an example:\n",
    "\n",
    "Number = 32\n",
    "32^2+ 22^2 = 13\n",
    "12^2 + 32^2 = 10\n",
    "12^2 + 02^2 = 1\n",
    "\n",
    "In this example, we split 32 to get the sum of squares of its digits which forms another number (13),\n",
    "we replace 32 by 13 to continue this cycle until result 1. We found 32 a happy number.\n",
    "\n",
    "If the above cycle for any number results in 1 then that number will be a Happy number otherwise that will be\n",
    "an unhappy number resulting 4, 16, 37, 58, 89, 145, 42, 20,.....\n",
    "\n",
    "Some Happy numbers are 7, 28, 100, 320, etc.\n",
    "'''\n",
    "\n",
    "\n",
    "\n",
    "def happycheck(num):\n",
    "    \n",
    "    rem = sum1 = 0;\n",
    "    \n",
    "    #Calculates the sum of squares of digits  \n",
    "    while(num > 0):\n",
    "        rem = num%10;\n",
    "        print(rem,'rem o/p')\n",
    "        sum1 = sum1 + (rem*rem);\n",
    "        print(sum1,'sum1 o/p')\n",
    "        num = num//10;\n",
    "        print(num ,'num o/p')\n",
    "    return sum1;\n",
    "\n",
    "num = 13 # int(input('number for happy check?: '))\n",
    "final = num\n",
    "\n",
    "\n",
    "\n",
    "while (final != 1 and final != 4):#4 is recursive\n",
    "    final = happycheck(final)\n",
    "    print(final,'while loop res')\n",
    "\n",
    "    \n",
    "    \n",
    "if (final == 1):\n",
    "       print(f'{num} is happy number ')\n",
    "elif (final == 4):\n",
    "       print(f'{num} is not a happy number')\n",
    "\n",
    "\n",
    "        \n",
    " "
   ]
  },
  {
   "cell_type": "code",
   "execution_count": null,
   "metadata": {},
   "outputs": [],
   "source": []
  },
  {
   "cell_type": "code",
   "execution_count": null,
   "metadata": {},
   "outputs": [],
   "source": []
  },
  {
   "cell_type": "markdown",
   "metadata": {},
   "source": [
    "(20)Number to word spell"
   ]
  },
  {
   "cell_type": "code",
   "execution_count": 31,
   "metadata": {},
   "outputs": [
    {
     "name": "stdout",
     "output_type": "stream",
     "text": [
      "three hundred and forty-five thousand, three hundred and forty-three\n",
      "four thousand, three hundred and twenty-three point five four\n",
      "three hundred and forty-five thousand, three hundred and forty-three\n",
      "四千三百二十三点五四\n",
      "trois cent quarante-cinq mille trois cent quarante-trois\n",
      "four thousand, three hundred and twenty-three rupees, fifty-four paise\n"
     ]
    }
   ],
   "source": [
    "from num2words import num2words \n",
    "\n",
    "num = 345343 #int(input('Enter Num to Word in int: '))\n",
    "num1 = 4323.54 #float(input('Enter Num to Word in Float:'))\n",
    "\n",
    "\n",
    "print(num2words(num)) \n",
    "print(num2words(num1)) \n",
    "  \n",
    "print(num2words(num,   to='cardinal'))  #to='original,ordinal_num,year,currency etc.,\n",
    "print(num2words(num1,   to='cardinal',lang = 'ja'))\n",
    "print(num2words(num,   lang = 'fr')) \n",
    "print(num2words(num1, lang='en', to='currency', currency='INR')) #usd ,euro etc.,\n",
    "\n",
    "#to='original,original-lang etc.,\n",
    "#read document for other lang support \n",
    "## https://pypi.org/project/num2words/ ##\n",
    "\n"
   ]
  },
  {
   "cell_type": "code",
   "execution_count": 36,
   "metadata": {},
   "outputs": [],
   "source": []
  },
  {
   "cell_type": "code",
   "execution_count": null,
   "metadata": {},
   "outputs": [],
   "source": []
  },
  {
   "cell_type": "markdown",
   "metadata": {},
   "source": [
    "(21) Consicutive outcomes of a Tossing a coin"
   ]
  },
  {
   "cell_type": "code",
   "execution_count": 68,
   "metadata": {},
   "outputs": [
    {
     "name": "stdout",
     "output_type": "stream",
     "text": [
      "Enter the number of times to be tossed: 7\n",
      "Toss outcomes are -  Tail Head Tail Head Head Head Head,\n",
      "Total heads are 5, & \n",
      "Total tails are 2\n"
     ]
    }
   ],
   "source": [
    "import random\n",
    "def toss():\n",
    "    cf = random.random()  # Random float:  0.0 <= x < 1.0\n",
    "    #print(cf)\n",
    "    if cf > 0.5:\n",
    "        return True\n",
    "    else:\n",
    "        return False\n",
    "    \n",
    "    \n",
    "def calc():\n",
    "    times = int(input('Enter the number of times to be tossed: '))\n",
    "    #string = ''\n",
    "    heads = 0\n",
    "    tails = 0\n",
    "    dstring = ''\n",
    "    for i in  range(times):\n",
    "        result = toss()\n",
    "        #print(str(result) + str(i))\n",
    "        #string = string +' '+ str(result)\n",
    "        #print(string)\n",
    "        if result == True:\n",
    "            heads += 1\n",
    "            dstring = dstring + ' ' + 'Head'\n",
    "        else:\n",
    "            tails += 1\n",
    "            dstring = dstring + ' ' + 'Tail'\n",
    "    return (print(f\"Toss outcomes are - {dstring},\\nTotal heads are {heads}, & \\nTotal tails are {tails}\"))\n",
    "            \n",
    "\n",
    "    \n",
    "    \n",
    "calc()\n"
   ]
  },
  {
   "cell_type": "code",
   "execution_count": null,
   "metadata": {},
   "outputs": [],
   "source": []
  },
  {
   "cell_type": "code",
   "execution_count": null,
   "metadata": {},
   "outputs": [],
   "source": []
  },
  {
   "cell_type": "markdown",
   "metadata": {},
   "source": [
    "(21) Limit Calculator/Calculus"
   ]
  },
  {
   "cell_type": "code",
   "execution_count": 107,
   "metadata": {},
   "outputs": [
    {
     "name": "stdout",
     "output_type": "stream",
     "text": [
      "Diff and Integration\n",
      "-sin(x) -cos(y) 20*x**3 pi\n",
      "Limit Functions\n",
      "func: (cos(x) - 1)/x\n",
      "0\n"
     ]
    }
   ],
   "source": [
    "'''\n",
    "https://docs.sympy.org/latest/tutorial/calculus.html\n",
    "\n",
    "'''\n",
    "#VISIT THIS PAGE FOR MORE INFO ON CALCULUS #SymPy\n",
    "#alternate pacakage is SciPy\n",
    "\n",
    "\n",
    "from sympy import *\n",
    "x,y = symbols('x y')\n",
    "\n",
    "m=cos(x)\n",
    "n=sin(y)\n",
    "\n",
    "print('Diff and Integration')\n",
    "a= diff(m,x)\n",
    "\n",
    "b= integrate(n,y)\n",
    "\n",
    "c = diff(x**5,x,2) #(function,with resp. variable, number of times to be diff)\n",
    "\n",
    "d = integrate(exp(-x**2 - y**2), (x, -oo, oo), (y, -oo, oo))   #(function,**karwgs) \n",
    "#(function,(withres to var,lower limit,upper limit) ,(withres to var,lower limit,upper limit))         \n",
    "\n",
    "print(a,b,c,d)\n",
    "\n",
    "print('Limit Functions')\n",
    "fuc = input('func: ') #(cos(x) - 1)/x\n",
    "\n",
    "expr = limit(fuc, x, 0) #(function,lower limit,upperlimit)\n",
    "\n",
    "print(expr)"
   ]
  },
  {
   "cell_type": "code",
   "execution_count": null,
   "metadata": {},
   "outputs": [],
   "source": []
  },
  {
   "cell_type": "code",
   "execution_count": null,
   "metadata": {},
   "outputs": [],
   "source": []
  },
  {
   "cell_type": "markdown",
   "metadata": {},
   "source": [
    "(22) Fast Modular Exponential Method"
   ]
  },
  {
   "cell_type": "code",
   "execution_count": 37,
   "metadata": {},
   "outputs": [
    {
     "name": "stdout",
     "output_type": "stream",
     "text": [
      "1\n",
      "6018531076210112040799931070577897870431567650673088110124808736145496368408203125\n",
      "1\n"
     ]
    }
   ],
   "source": [
    "# Fast python code that first calls pow() \n",
    "# then applies % operator \n",
    "\n",
    "'''\n",
    "View this page for how it actually works \n",
    "https://www.khanacademy.org/computing/computer-science/cryptography/modarithmetic/a/fast-modular-exponentiation\n",
    "\n",
    "'''\n",
    "a = 5 #int(input(\"enter a: \"))\n",
    "b = 117 #int(input(\"enter b: \"))\n",
    "p = 19 #int(input(\"enter p: \"))\n",
    "\n",
    "'''The below mwthod is one liner for Fast Modular Exponential '''\n",
    "# (a ^ b) % p. \n",
    "print (pow(a, b, p))\n",
    "\n",
    "'''The below method is breakdown'''\n",
    "A=pow(a,b)\n",
    "print(A)\n",
    "A=A%p\n",
    "print(A)"
   ]
  },
  {
   "cell_type": "code",
   "execution_count": 31,
   "metadata": {},
   "outputs": [
    {
     "data": {
      "text/plain": [
       "100"
      ]
     },
     "execution_count": 31,
     "metadata": {},
     "output_type": "execute_result"
    }
   ],
   "source": []
  },
  {
   "cell_type": "code",
   "execution_count": null,
   "metadata": {},
   "outputs": [],
   "source": []
  }
 ],
 "metadata": {
  "kernelspec": {
   "display_name": "Python 3",
   "language": "python",
   "name": "python3"
  },
  "language_info": {
   "codemirror_mode": {
    "name": "ipython",
    "version": 3
   },
   "file_extension": ".py",
   "mimetype": "text/x-python",
   "name": "python",
   "nbconvert_exporter": "python",
   "pygments_lexer": "ipython3",
   "version": "3.7.6"
  }
 },
 "nbformat": 4,
 "nbformat_minor": 4
}
