{
 "cells": [
  {
   "cell_type": "markdown",
   "metadata": {},
   "source": [
    "NUMBERS"
   ]
  },
  {
   "cell_type": "markdown",
   "metadata": {},
   "source": [
    "4. Prime Factors from the given range"
   ]
  },
  {
   "cell_type": "code",
   "execution_count": null,
   "metadata": {},
   "outputs": [],
   "source": [
    "import math\n",
    "# prime\n",
    "def pf(n):\n",
    "   # check is it even or not\n",
    "   while n % 2 == 0:\n",
    "        print (2),\n",
    "        n = n / 2\n",
    "   # n becomes odd\n",
    "   for i in range(3,int(math.sqrt(n))+1):\n",
    "        \n",
    "      # while i divides n\n",
    "        while n % i== 0:\n",
    "            print (i)\n",
    "            n = n / i\n",
    "   # if n is a prime\n",
    "   if n > 2:\n",
    "        print (n)\n",
    "        \n",
    "        \n",
    "n = int(input('enter the number to get all prime in range: '))\n",
    "pf(n)"
   ]
  }
 ],
 "metadata": {
  "kernelspec": {
   "display_name": "Python 3",
   "language": "python",
   "name": "python3"
  },
  "language_info": {
   "codemirror_mode": {
    "name": "ipython",
    "version": 3
   },
   "file_extension": ".py",
   "mimetype": "text/x-python",
   "name": "python",
   "nbconvert_exporter": "python",
   "pygments_lexer": "ipython3",
   "version": "3.7.6"
  }
 },
 "nbformat": 4,
 "nbformat_minor": 4
}
