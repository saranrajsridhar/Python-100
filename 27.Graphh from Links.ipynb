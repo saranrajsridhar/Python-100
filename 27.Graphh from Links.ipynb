{
 "cells": [
  {
   "cell_type": "markdown",
   "metadata": {},
   "source": [
    "GRAPHS"
   ]
  },
  {
   "cell_type": "markdown",
   "metadata": {},
   "source": [
    "1.All LINKS/EDGES from a VERTEX/NODE"
   ]
  },
  {
   "cell_type": "code",
   "execution_count": 90,
   "metadata": {},
   "outputs": [
    {
     "name": "stdout",
     "output_type": "stream",
     "text": [
      "enter no of rows : 4\n",
      "Enter the vertexes of a edge:  1 2\n",
      "Enter the vertexes of a edge:  2 3\n",
      "Enter the vertexes of a edge:  3 4\n",
      "Enter the vertexes of a edge:  4 1\n"
     ]
    },
    {
     "data": {
      "text/plain": [
       "{1: [2, 4], 2: [1, 3], 3: [2, 4], 4: [3, 1]}"
      ]
     },
     "execution_count": 90,
     "metadata": {},
     "output_type": "execute_result"
    }
   ],
   "source": [
    "'''\n",
    "Understanding the concept of linking\n",
    "1.we give an graph as input \n",
    "2.But what we do here is ?Finding all the vertex that is connect to one vertex\n",
    "3.Lets take square ((1,2) (2,3) (3,4) (4,1))\n",
    "4.OutPut vertex 1 is connected to vertec 2 and 4, 2 to 3 and 1 so on.., \n",
    "\n",
    "'''\n",
    "\n",
    "\n",
    "\n",
    "\n",
    "def checkedge(point,graph):\n",
    "### This Function is for check whether the edge already existing in our list of grapf ###\n",
    "\n",
    "    if point in graph:\n",
    "        #print('it exists')\n",
    "### if graph has the edge it does not do anything and just passes and appends in fromedge() ###\n",
    "        return True\n",
    "    else:\n",
    "        #print('it doesn't exists')\n",
    "### if graph does not consist the edge it creates a empty list and append in fromedge() ###\n",
    "        return False\n",
    "\n",
    "\n",
    "def fromedges(edges):\n",
    "### init a empty dict for our output ###    \n",
    "    graph = {}\n",
    "    for edge in edges:\n",
    "        #print(edge)\n",
    "        for point in edge:\n",
    "            #print(point)\n",
    "            \n",
    "            if not checkedge(point,graph):\n",
    "                \n",
    "                #print(point,graph)\n",
    "                #print('not in checkedge function')\n",
    "                ### since the edge is not in our graph and its a new entry so init a empty list and append after this loop ###\n",
    "                ### GRAPH = {} ----> EDGES = (1,2) ------> POINTS = 1\n",
    "                graph[point]=[]\n",
    "                #print(graph)\n",
    "        ### appending the new edge into the list inside the graph {} ###\n",
    "        graph[edge[0]].append(edge[1])\n",
    "        #print(graph,'1')\n",
    "        graph[edge[1]].append(edge[0])\n",
    "        #print(graph,'2')\n",
    "    return graph\n",
    "\n",
    "\n",
    "edges = list(tuple(map(int,input('Enter the vertexes of a edge:  ').split())) for r in range(int(input('enter no of rows : ')))) \n",
    "\n",
    "fromedges(edges)"
   ]
  }
 ],
 "metadata": {
  "kernelspec": {
   "display_name": "Python 3",
   "language": "python",
   "name": "python3"
  },
  "language_info": {
   "codemirror_mode": {
    "name": "ipython",
    "version": 3
   },
   "file_extension": ".py",
   "mimetype": "text/x-python",
   "name": "python",
   "nbconvert_exporter": "python",
   "pygments_lexer": "ipython3",
   "version": "3.7.6"
  }
 },
 "nbformat": 4,
 "nbformat_minor": 4
}
