{
 "cells": [
  {
   "cell_type": "markdown",
   "metadata": {},
   "source": [
    "4.Sieve Of Eratosthenes "
   ]
  },
  {
   "cell_type": "code",
   "execution_count": 24,
   "metadata": {},
   "outputs": [
    {
     "name": "stdout",
     "output_type": "stream",
     "text": [
      "enter the max number: 53\n",
      "2 3 5 7 11 13 17 19 23 29 31 37 41 43 47 53 "
     ]
    }
   ],
   "source": [
    "\n",
    "'''\n",
    "so what it is ?\n",
    "To find N prime number in given range with Timecomplexity(n*log(logn)).\n",
    "\n",
    "basic idea compared to other prime finders is :\n",
    "1. Consider an end point\n",
    "2.Take sq-root of the end point\n",
    "3. finding all primes in between 2 to sq-root determines it's multiple value\n",
    "4. now use that all primes under the sq-root range and find all the primes \n",
    "   from the range of 2 to n using it's multiples \n",
    "5.Left over numbers from range of 2 to n, and all the prime number from range\n",
    "  of 2 to sq-root(n) are said to prime numbers \n",
    "\n",
    "\n",
    "'''\n",
    "\n",
    "'''\n",
    "\n",
    "For more Ref watch this,\n",
    "https://www.youtube.com/watch?v=-wIYdmPiHcA\n",
    "\n",
    "'''\n",
    "\n",
    "\n",
    "from math import *\n",
    "\n",
    "def findprimes(n):\n",
    "    #Assume all numbers are primes\n",
    "    primes = [True]*(n+1)\n",
    "    # 0 and 1 can't be primes so make it as false manually\n",
    "    primes[0] = primes[1] = False\n",
    "    #2,3\n",
    "    for p in range(2,int(sqrt(n)) + 1):\n",
    "        if primes[p] == True:\n",
    "            #4,5\n",
    "            for i in range( p**2 , n+1, p ):\n",
    "                primes[i] = False\n",
    "    #print all the primes that we found \n",
    "    for i in range(0,len(primes)):\n",
    "        if primes[i]==True:\n",
    "            print(i , end=' ')\n",
    "\n",
    "\n",
    "#1\n",
    "num = int(input('enter the max number: '))\n",
    "findprimes(num)\n",
    "\n",
    "\n"
   ]
  },
  {
   "cell_type": "code",
   "execution_count": null,
   "metadata": {},
   "outputs": [],
   "source": []
  }
 ],
 "metadata": {
  "kernelspec": {
   "display_name": "Python 3",
   "language": "python",
   "name": "python3"
  },
  "language_info": {
   "codemirror_mode": {
    "name": "ipython",
    "version": 3
   },
   "file_extension": ".py",
   "mimetype": "text/x-python",
   "name": "python",
   "nbconvert_exporter": "python",
   "pygments_lexer": "ipython3",
   "version": "3.7.6"
  }
 },
 "nbformat": 4,
 "nbformat_minor": 4
}
