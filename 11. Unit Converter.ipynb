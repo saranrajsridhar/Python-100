{
 "cells": [
  {
   "cell_type": "markdown",
   "metadata": {},
   "source": [
    "NUMBERS"
   ]
  },
  {
   "cell_type": "markdown",
   "metadata": {},
   "source": [
    "(11)Unit Converter"
   ]
  },
  {
   "cell_type": "code",
   "execution_count": 1,
   "metadata": {},
   "outputs": [
    {
     "name": "stdout",
     "output_type": "stream",
     "text": [
      "Enter the type of conversion you need? \n",
      "1 - Temp \n",
      "2 - Currency \n",
      "3 - Mass: \n",
      "2\n",
      "Enter \t1 - $ to INR \n",
      "2 - INR to $ \n",
      "3 - INR to AUD \n",
      "4 - AUD to INR3\n",
      "enter the count of INR to AUD113232\n",
      "2154.7651815984\n"
     ]
    }
   ],
   "source": [
    "from forex_python.converter import CurrencyRates\n",
    "\n",
    "def TEMP(x):\n",
    "    temp = x #input('Enter \\t1 - C to F \\n2 - F to C \\n3 - C to K ')\n",
    "    if temp == '1':\n",
    "        val = float(input('Enter C value to change it to F:'))\n",
    "        res = 9.0 / 5.0 * val + 32\n",
    "        print(res,'F' )\n",
    "    elif temp == '2':\n",
    "        val = float(input('Enter F value to change it to C:'))\n",
    "        res = (val - 32)  / 9.0 * 5.0\n",
    "        print (res, 'C')\n",
    "    elif temp =='3':\n",
    "        val = float(input('Enter C value to change it to K:'))\n",
    "        res = val + 273.15\n",
    "        print (res, 'K')\n",
    "\n",
    "def CUR(x):\n",
    "    cur = x\n",
    "    c = CurrencyRates()\n",
    "    if cur == '1':\n",
    "        quantity = float(input('enter the count of USD to INR'))\n",
    "        a=c.get_rate('USD', 'INR')\n",
    "        a *= quantity\n",
    "        print (a)\n",
    "    if cur == '2':\n",
    "        quantity = float(input('enter the count of INR to USD'))\n",
    "        a=c.get_rate('INR', 'USD')\n",
    "        a *= quantity\n",
    "        print (a)\n",
    "    if cur == '3':\n",
    "        quantity = float(input('enter the count of INR to AUD'))\n",
    "        a=c.get_rate('INR', 'AUD')\n",
    "        a *= quantity\n",
    "        print (a)\n",
    "    if cur == '4':\n",
    "        quantity = float(input('enter the count of AUD to INR'))\n",
    "        a=c.get_rate('AUD', 'INR')\n",
    "        a *= quantity\n",
    "        print (a)\n",
    "\n",
    "    \n",
    "def MASS():\n",
    "    \n",
    "    types = {\"k\": 1000, \"g\": 1,\"mg\":0.1}\n",
    "    unit1 = input (\"Which unit would you like to convert from ['k','g','mg']: \")\n",
    "    unit2 = input (\"Which unit would you like to convert to['k','g','mg']: \")\n",
    "    num1 = int(input (\"Enter your value: \" ))\n",
    "\n",
    "\n",
    "    unit1 , unit2 = types[unit1],types[unit2]\n",
    "    val = num1 * (unit1/unit2)\n",
    "    print(val)\n",
    "\n",
    "                \n",
    "material = input('Enter the type of conversion you need? \\n1 - Temp \\n2 - Currency \\n3 - Mass: \\n')   \n",
    "if material == '1':\n",
    "        op = input('Enter \\t1 - C to F \\n2 - F to C \\n3 - C to K ')\n",
    "        TEMP(op)\n",
    "elif material == '2':\n",
    "        op = input('Enter \\t1 - $ to INR \\n2 - INR to $ \\n3 - INR to AUD \\n4 - AUD to INR')\n",
    "        CUR(op)\n",
    "elif material == '3':\n",
    "        MASS()        \n",
    "    \n",
    "        \n",
    "        \n"
   ]
  }
 ],
 "metadata": {
  "kernelspec": {
   "display_name": "Python 3",
   "language": "python",
   "name": "python3"
  },
  "language_info": {
   "codemirror_mode": {
    "name": "ipython",
    "version": 3
   },
   "file_extension": ".py",
   "mimetype": "text/x-python",
   "name": "python",
   "nbconvert_exporter": "python",
   "pygments_lexer": "ipython3",
   "version": "3.7.6"
  }
 },
 "nbformat": 4,
 "nbformat_minor": 4
}
