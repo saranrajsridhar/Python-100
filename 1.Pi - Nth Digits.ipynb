{
 "cells": [
  {
   "cell_type": "markdown",
   "metadata": {},
   "source": [
    "NUMBERS"
   ]
  },
  {
   "cell_type": "markdown",
   "metadata": {},
   "source": [
    "1. PI Value with Desired Decimal places"
   ]
  },
  {
   "cell_type": "code",
   "execution_count": 4,
   "metadata": {},
   "outputs": [
    {
     "name": "stdout",
     "output_type": "stream",
     "text": [
      "enter val : 100\n"
     ]
    },
    {
     "data": {
      "text/plain": [
       "Decimal('3.142857142857142857142857142857142857142857142857142857142857142857142857142857142857142857142857143')"
      ]
     },
     "execution_count": 4,
     "metadata": {},
     "output_type": "execute_result"
    }
   ],
   "source": [
    "from decimal import *\n",
    "getcontext().prec = int(input(\"enter val : \"))\n",
    "Decimal(22) / Decimal(7)"
   ]
  },
  {
   "cell_type": "code",
   "execution_count": null,
   "metadata": {},
   "outputs": [],
   "source": []
  },
  {
   "cell_type": "markdown",
   "metadata": {},
   "source": [
    "Nth Digit of Upto 15 Decimal points"
   ]
  },
  {
   "cell_type": "code",
   "execution_count": 12,
   "metadata": {},
   "outputs": [
    {
     "name": "stdout",
     "output_type": "stream",
     "text": [
      "Nth digit between 1-15: 4\n",
      "3.1416\n"
     ]
    }
   ],
   "source": [
    "\n",
    "import math\n",
    "Prec = int(input(\"Nth digit between 1-15: \"))\n",
    "print(round(math.pi,Prec))"
   ]
  },
  {
   "cell_type": "code",
   "execution_count": null,
   "metadata": {},
   "outputs": [],
   "source": []
  },
  {
   "cell_type": "markdown",
   "metadata": {},
   "source": [
    "For more accuracy use chudnovsky algorithim \n",
    "more the number of loops more the accuracy"
   ]
  },
  {
   "cell_type": "code",
   "execution_count": 3,
   "metadata": {},
   "outputs": [
    {
     "name": "stdout",
     "output_type": "stream",
     "text": [
      "enter prec: 100\n",
      "\t\t\t Plouff \t\t Bellard \t\t\t Chudnovsky\n",
      "Iteration number  1   3.141592653589734207668453591578298340762233260915706590894145498737666209401659108066117347469689757\n",
      "Iteration number  2   3.141592653589793238462643383587350688475866345996374315654905806801301450565203591105830910219290929\n",
      "Iteration number  3   3.141592653589793238462643383279502884197167678854846287912727790370642977335176958726922911495373798\n",
      "Iteration number  4   3.141592653589793238462643383279502884197169399375105820984947408020662452789717346364103622321101911\n",
      "Iteration number  5   3.141592653589793238462643383279502884197169399375105820974944592307816346694690247717268165239156011\n",
      "Iteration number  6   3.141592653589793238462643383279502884197169399375105820974944592307816406286208998628395732194831866\n",
      "Iteration number  7   3.141592653589793238462643383279502884197169399375105820974944592307816406286208998628034825342117065\n",
      "Iteration number  8   3.141592653589793238462643383279502884197169399375105820974944592307816406286208998628034825342117067\n",
      "Iteration number  9   3.141592653589793238462643383279502884197169399375105820974944592307816406286208998628034825342117067\n",
      "Iteration number  10   3.141592653589793238462643383279502884197169399375105820974944592307816406286208998628034825342117067\n",
      "Iteration number  11   3.141592653589793238462643383279502884197169399375105820974944592307816406286208998628034825342117067\n",
      "Iteration number  12   3.141592653589793238462643383279502884197169399375105820974944592307816406286208998628034825342117067\n",
      "Iteration number  13   3.141592653589793238462643383279502884197169399375105820974944592307816406286208998628034825342117067\n",
      "Iteration number  14   3.141592653589793238462643383279502884197169399375105820974944592307816406286208998628034825342117067\n",
      "Iteration number  15   3.141592653589793238462643383279502884197169399375105820974944592307816406286208998628034825342117067\n",
      "Iteration number  16   3.141592653589793238462643383279502884197169399375105820974944592307816406286208998628034825342117067\n",
      "Iteration number  17   3.141592653589793238462643383279502884197169399375105820974944592307816406286208998628034825342117067\n",
      "Iteration number  18   3.141592653589793238462643383279502884197169399375105820974944592307816406286208998628034825342117067\n",
      "Iteration number  19   3.141592653589793238462643383279502884197169399375105820974944592307816406286208998628034825342117067\n"
     ]
    }
   ],
   "source": [
    "from decimal import *\n",
    "\n",
    "#Sets decimal to 25 digits of precision\n",
    "getcontext().prec =int(input('enter prec: '))\n",
    "\n",
    "def factorial(n):\n",
    "    if n<1:\n",
    "        return 1\n",
    "    else:\n",
    "        return n * factorial(n-1)\n",
    "    \n",
    "def chudnovskyBig(n): \n",
    "    #http://en.wikipedia.org/wiki/Chudnovsky_algorithm\n",
    "    '''Chudnovsky's Formula for Finding N Digits in Pi,using Iteration for Better Result'''\n",
    "    pi = Decimal(0)\n",
    "    k = 0\n",
    "    while k < n:\n",
    "        pi += (Decimal(-1)**k)*(Decimal(factorial(6*k))/((factorial(k)**3)*(factorial(3*k)))* (13591409+545140134*k)/(640320**(3*k)))\n",
    "        k += 1\n",
    "    pi = pi * Decimal(10005).sqrt()/4270934400\n",
    "    pi = pi**(-1)\n",
    "    return pi\n",
    "print(\"\\t\\t\\t Plouff \\t\\t Bellard \\t\\t\\t Chudnovsky\")\n",
    "for i in range(1,20):\n",
    "    print(\"Iteration number \",i, \" \", chudnovskyBig(i))"
   ]
  },
  {
   "cell_type": "code",
   "execution_count": null,
   "metadata": {},
   "outputs": [],
   "source": []
  }
 ],
 "metadata": {
  "kernelspec": {
   "display_name": "Python 3",
   "language": "python",
   "name": "python3"
  },
  "language_info": {
   "codemirror_mode": {
    "name": "ipython",
    "version": 3
   },
   "file_extension": ".py",
   "mimetype": "text/x-python",
   "name": "python",
   "nbconvert_exporter": "python",
   "pygments_lexer": "ipython3",
   "version": "3.7.6"
  }
 },
 "nbformat": 4,
 "nbformat_minor": 4
}
