{
 "cells": [
  {
   "cell_type": "markdown",
   "metadata": {},
   "source": [
    "NUMBERS"
   ]
  },
  {
   "cell_type": "markdown",
   "metadata": {},
   "source": [
    "(19)Happy Number"
   ]
  },
  {
   "cell_type": "code",
   "execution_count": 17,
   "metadata": {},
   "outputs": [
    {
     "name": "stdout",
     "output_type": "stream",
     "text": [
      "3 rem o/p\n",
      "9 sum1 o/p\n",
      "1 num o/p\n",
      "1 rem o/p\n",
      "10 sum1 o/p\n",
      "0 num o/p\n",
      "10 while loop res\n",
      "0 rem o/p\n",
      "0 sum1 o/p\n",
      "1 num o/p\n",
      "1 rem o/p\n",
      "1 sum1 o/p\n",
      "0 num o/p\n",
      "1 while loop res\n",
      "13 is happy number \n"
     ]
    }
   ],
   "source": [
    "'''\n",
    "A number is said to be happy if it yields 1 when replaced by the sum of squares\n",
    "of its digits repeatedly. If this process results in an endless cycle of numbers\n",
    "containing 4, then the number will be an unhappy number.\n",
    "\n",
    "Let's understand by an example:\n",
    "\n",
    "Number = 32\n",
    "32^2+ 22^2 = 13\n",
    "12^2 + 32^2 = 10\n",
    "12^2 + 02^2 = 1\n",
    "\n",
    "In this example, we split 32 to get the sum of squares of its digits which forms another number (13),\n",
    "we replace 32 by 13 to continue this cycle until result 1. We found 32 a happy number.\n",
    "\n",
    "If the above cycle for any number results in 1 then that number will be a Happy number otherwise that will be\n",
    "an unhappy number resulting 4, 16, 37, 58, 89, 145, 42, 20,.....\n",
    "\n",
    "Some Happy numbers are 7, 28, 100, 320, etc.\n",
    "'''\n",
    "\n",
    "\n",
    "\n",
    "def happycheck(num):\n",
    "    \n",
    "    rem = sum1 = 0;\n",
    "    \n",
    "    #Calculates the sum of squares of digits  \n",
    "    while(num > 0):\n",
    "        rem = num%10;\n",
    "        print(rem,'rem o/p')\n",
    "        sum1 = sum1 + (rem*rem);\n",
    "        print(sum1,'sum1 o/p')\n",
    "        num = num//10;\n",
    "        print(num ,'num o/p')\n",
    "    return sum1;\n",
    "\n",
    "num = 13 # int(input('number for happy check?: '))\n",
    "final = num\n",
    "\n",
    "\n",
    "\n",
    "while (final != 1 and final != 4):#4 is recursive\n",
    "    final = happycheck(final)\n",
    "    print(final,'while loop res')\n",
    "\n",
    "    \n",
    "    \n",
    "if (final == 1):\n",
    "       print(f'{num} is happy number ')\n",
    "elif (final == 4):\n",
    "       print(f'{num} is not a happy number')\n",
    "\n",
    "\n",
    "        \n",
    " "
   ]
  }
 ],
 "metadata": {
  "kernelspec": {
   "display_name": "Python 3",
   "language": "python",
   "name": "python3"
  },
  "language_info": {
   "codemirror_mode": {
    "name": "ipython",
    "version": 3
   },
   "file_extension": ".py",
   "mimetype": "text/x-python",
   "name": "python",
   "nbconvert_exporter": "python",
   "pygments_lexer": "ipython3",
   "version": "3.7.6"
  }
 },
 "nbformat": 4,
 "nbformat_minor": 4
}
