{
 "cells": [
  {
   "cell_type": "markdown",
   "metadata": {},
   "source": [
    "Classic Algorithm"
   ]
  },
  {
   "cell_type": "markdown",
   "metadata": {},
   "source": [
    "1.Collatz conjecture"
   ]
  },
  {
   "cell_type": "code",
   "execution_count": 26,
   "metadata": {},
   "outputs": [
    {
     "name": "stdout",
     "output_type": "stream",
     "text": [
      "5 16 8 4 2 1 "
     ]
    }
   ],
   "source": [
    "'''For more info on this method \n",
    "   https://en.wikipedia.org/wiki/Collatz_conjecture#:~:text=The%20Collatz%20conjecture%20is%20a,half%20of%20the%20previous%20term.\n",
    "'''\n",
    "def collatz(number):\n",
    "    if number > 1:\n",
    "        print(number , end=' ')\n",
    "        if ((number % 2) == 0):\n",
    "            #even\n",
    "            number //= 2\n",
    "            collatz(number)\n",
    "        else:\n",
    "            #odd\n",
    "            number = (number * 3) + 1\n",
    "            collatz(number)\n",
    "\n",
    "\n",
    "no = 5 #int(input('enter the number for finding its Collatz series: '))\n",
    "\n",
    "collatz(no)\n",
    "print(1, end=' ')\n"
   ]
  },
  {
   "cell_type": "code",
   "execution_count": 27,
   "metadata": {},
   "outputs": [
    {
     "data": {
      "text/plain": [
       "'l = []\\nfor i in range(10):\\n    l.append(i)\\nprint(l)'"
      ]
     },
     "execution_count": 27,
     "metadata": {},
     "output_type": "execute_result"
    }
   ],
   "source": [
    "'''l = []\n",
    "for i in range(10):\n",
    "    l.append(i)\n",
    "print(l)'''\n"
   ]
  },
  {
   "cell_type": "code",
   "execution_count": null,
   "metadata": {},
   "outputs": [],
   "source": []
  }
 ],
 "metadata": {
  "kernelspec": {
   "display_name": "Python 3",
   "language": "python",
   "name": "python3"
  },
  "language_info": {
   "codemirror_mode": {
    "name": "ipython",
    "version": 3
   },
   "file_extension": ".py",
   "mimetype": "text/x-python",
   "name": "python",
   "nbconvert_exporter": "python",
   "pygments_lexer": "ipython3",
   "version": "3.7.6"
  }
 },
 "nbformat": 4,
 "nbformat_minor": 4
}
