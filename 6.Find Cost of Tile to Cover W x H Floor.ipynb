{
 "cells": [
  {
   "cell_type": "markdown",
   "metadata": {},
   "source": [
    "NUMBERS"
   ]
  },
  {
   "cell_type": "markdown",
   "metadata": {},
   "source": [
    "(6)Find Cost of Tile to Cover W x H Floor - Calculate the total cost of tile it would take to cover a floor plan of width and height, using a cost entered by the user."
   ]
  },
  {
   "cell_type": "code",
   "execution_count": 3,
   "metadata": {},
   "outputs": [
    {
     "name": "stdout",
     "output_type": "stream",
     "text": [
      "enter the length of floor : 55\n",
      "enter the width of floor : 33\n",
      "enter the length of floor : 22\n",
      "Total tiles required to fill the area of floor is with this particular tile is 83tiles,of length55 and width of 33\n",
      "Total cost for covering this area with this type of tile is 1826/- INR\n"
     ]
    }
   ],
   "source": [
    "import math\n",
    "Length = int(input('enter the length of floor : '))\n",
    "Width = int(input('enter the width of floor : '))\n",
    "Cost_per_tile=int(input('enter the length of floor : '))\n",
    "\n",
    "Total_tiles_count= (Length * Width)/Cost_per_tile\n",
    "Total_tiles_count=math.ceil(Total_tiles_count)\n",
    "\n",
    "print(f'Total tiles required to fill the area of floor is with this particular tile is {Total_tiles_count}tiles,of length{Length} and width of {Width}')\n",
    "\n",
    "\n",
    "Total_cost = Total_tiles_count * Cost_per_tile\n",
    "\n",
    "print(f'Total cost for covering this area with this type of tile is {Total_cost}/- INR')"
   ]
  }
 ],
 "metadata": {
  "kernelspec": {
   "display_name": "Python 3",
   "language": "python",
   "name": "python3"
  },
  "language_info": {
   "codemirror_mode": {
    "name": "ipython",
    "version": 3
   },
   "file_extension": ".py",
   "mimetype": "text/x-python",
   "name": "python",
   "nbconvert_exporter": "python",
   "pygments_lexer": "ipython3",
   "version": "3.7.6"
  }
 },
 "nbformat": 4,
 "nbformat_minor": 4
}
