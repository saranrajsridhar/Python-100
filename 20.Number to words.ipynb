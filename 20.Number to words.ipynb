{
 "cells": [
  {
   "cell_type": "markdown",
   "metadata": {},
   "source": [
    "NUMBERS"
   ]
  },
  {
   "cell_type": "markdown",
   "metadata": {},
   "source": [
    "(20)Number to word spell"
   ]
  },
  {
   "cell_type": "code",
   "execution_count": 1,
   "metadata": {},
   "outputs": [
    {
     "name": "stdout",
     "output_type": "stream",
     "text": [
      "three hundred and forty-five thousand, three hundred and forty-three\n",
      "four thousand, three hundred and twenty-three point five four\n",
      "three hundred and forty-five thousand, three hundred and forty-three\n",
      "四千三百二十三点五四\n",
      "trois cent quarante-cinq mille trois cent quarante-trois\n",
      "four thousand, three hundred and twenty-three rupees, fifty-four paise\n"
     ]
    }
   ],
   "source": [
    "from num2words import num2words \n",
    "\n",
    "num = 345343 #int(input('Enter Num to Word in int: '))\n",
    "num1 = 4323.54 #float(input('Enter Num to Word in Float:'))\n",
    "\n",
    "\n",
    "print(num2words(num)) \n",
    "print(num2words(num1)) \n",
    "  \n",
    "print(num2words(num,   to='cardinal'))  #to='original,ordinal_num,year,currency etc.,\n",
    "print(num2words(num1,   to='cardinal',lang = 'ja'))\n",
    "print(num2words(num,   lang = 'fr')) \n",
    "print(num2words(num1, lang='en', to='currency', currency='INR')) #usd ,euro etc.,\n",
    "\n",
    "#to='original,original-lang etc.,\n",
    "#read document for other lang support \n",
    "## https://pypi.org/project/num2words/ ##\n",
    "\n"
   ]
  },
  {
   "cell_type": "code",
   "execution_count": null,
   "metadata": {},
   "outputs": [],
   "source": []
  }
 ],
 "metadata": {
  "kernelspec": {
   "display_name": "Python 3",
   "language": "python",
   "name": "python3"
  },
  "language_info": {
   "codemirror_mode": {
    "name": "ipython",
    "version": 3
   },
   "file_extension": ".py",
   "mimetype": "text/x-python",
   "name": "python",
   "nbconvert_exporter": "python",
   "pygments_lexer": "ipython3",
   "version": "3.7.6"
  }
 },
 "nbformat": 4,
 "nbformat_minor": 4
}
