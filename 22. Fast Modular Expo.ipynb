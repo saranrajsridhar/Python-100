{
 "cells": [
  {
   "cell_type": "markdown",
   "metadata": {},
   "source": [
    "NUMBERS"
   ]
  },
  {
   "cell_type": "markdown",
   "metadata": {},
   "source": [
    "(22) Fast Modular Exponential Method"
   ]
  },
  {
   "cell_type": "code",
   "execution_count": 1,
   "metadata": {},
   "outputs": [
    {
     "name": "stdout",
     "output_type": "stream",
     "text": [
      "1\n",
      "6018531076210112040799931070577897870431567650673088110124808736145496368408203125\n",
      "1\n"
     ]
    }
   ],
   "source": [
    "# Fast python code that first calls pow() \n",
    "# then applies % operator \n",
    "\n",
    "'''\n",
    "View this page for how it actually works \n",
    "https://www.khanacademy.org/computing/computer-science/cryptography/modarithmetic/a/fast-modular-exponentiation\n",
    "\n",
    "'''\n",
    "a = 5 #int(input(\"enter a: \"))\n",
    "b = 117 #int(input(\"enter b: \"))\n",
    "p = 19 #int(input(\"enter p: \"))\n",
    "\n",
    "'''The below mwthod is one liner for Fast Modular Exponential '''\n",
    "# (a ^ b) % p. \n",
    "print (pow(a, b, p))\n",
    "\n",
    "'''The below method is breakdown'''\n",
    "A=pow(a,b)\n",
    "print(A)\n",
    "A=A%p\n",
    "print(A)"
   ]
  }
 ],
 "metadata": {
  "kernelspec": {
   "display_name": "Python 3",
   "language": "python",
   "name": "python3"
  },
  "language_info": {
   "codemirror_mode": {
    "name": "ipython",
    "version": 3
   },
   "file_extension": ".py",
   "mimetype": "text/x-python",
   "name": "python",
   "nbconvert_exporter": "python",
   "pygments_lexer": "ipython3",
   "version": "3.7.6"
  }
 },
 "nbformat": 4,
 "nbformat_minor": 4
}
