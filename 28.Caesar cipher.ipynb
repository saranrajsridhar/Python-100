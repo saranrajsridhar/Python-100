{
 "cells": [
  {
   "cell_type": "markdown",
   "metadata": {},
   "source": [
    "Security"
   ]
  },
  {
   "cell_type": "markdown",
   "metadata": {},
   "source": [
    "1.Caesar cipher"
   ]
  },
  {
   "cell_type": "code",
   "execution_count": 1,
   "metadata": {},
   "outputs": [
    {
     "name": "stdout",
     "output_type": "stream",
     "text": [
      "Enter the Key for chiper:(1-25 only) 9\n",
      "enter text to encrypt:(only text) Hi\n",
      "Q\n",
      "R\n",
      "enter text to decrypt:(only text) QR\n",
      "H\n",
      "I\n"
     ]
    }
   ],
   "source": [
    "'''\n",
    "Chiper encrypt and decrypt \n",
    "\n",
    "'''\n",
    "\n",
    "\n",
    "class Chiper():    \n",
    "    def __init__(self):\n",
    "        self.letters = 'ABCDEFGHIJKLMNOPQRSTUVWXYZ'\n",
    "        self.new = ''\n",
    "    def __check(self,mode):\n",
    "        \n",
    "        self.mode = mode\n",
    "        if mode == 'encrypt':\n",
    "            for i in self.message.upper():\n",
    "                #print(i)\n",
    "                if i in self.letters:\n",
    "                    num = self.letters.find(i)\n",
    "                    #print(num)\n",
    "                    num += self.key\n",
    "                    #print(num ,'after key')\n",
    "                    if num >= len(self.letters):\n",
    "                        num -= len(self.letters)\n",
    "                        #print(num,'if greater than 26')\n",
    "                        #print(self.letters[num],'final')\n",
    "                    elif num < 0:\n",
    "                        num += len(self.letters)\n",
    "                    print(self.letters[num])\n",
    "\n",
    "        else:\n",
    "            for i in self.message.upper():\n",
    "                #print(i)\n",
    "                if i in self.letters:\n",
    "                    num = self.letters.find(i)\n",
    "                    #print(num)\n",
    "                    num -= self.key\n",
    "                    #print(num ,'after key')\n",
    "                    if num >= len(self.letters):\n",
    "                        num -= len(self.letters)\n",
    "                        #print(num,'if greater than 26')\n",
    "                        #print(self.letters[num],'final')\n",
    "                    elif num < 0:\n",
    "                        num += len(self.letters)\n",
    "                    print(self.letters[num])\n",
    "                    \n",
    "                \n",
    "        #print(mode,self.message)\n",
    "    def encrypt(self, message, key=0):\n",
    "        self.new = ''\n",
    "        self.key = key\n",
    "        self.message = message\n",
    "        return self.__check('encrypt')\n",
    "    def decrypt(self, message, key=0):\n",
    "        self.new = ''\n",
    "        self.key = key\n",
    "        self.message = message\n",
    "        return self.__check('decrypt')\n",
    "    \n",
    "chiper = Chiper()\n",
    "key = int(input('Enter the Key for chiper:(1-25 only) '))\n",
    "a = chiper.encrypt(input('enter text to encrypt:(only text) '),key)\n",
    "b = chiper.decrypt(input('enter text to decrypt:(only text) '),key)"
   ]
  },
  {
   "cell_type": "markdown",
   "metadata": {},
   "source": [
    "### "
   ]
  }
 ],
 "metadata": {
  "kernelspec": {
   "display_name": "Python 3",
   "language": "python",
   "name": "python3"
  },
  "language_info": {
   "codemirror_mode": {
    "name": "ipython",
    "version": 3
   },
   "file_extension": ".py",
   "mimetype": "text/x-python",
   "name": "python",
   "nbconvert_exporter": "python",
   "pygments_lexer": "ipython3",
   "version": "3.7.6"
  }
 },
 "nbformat": 4,
 "nbformat_minor": 4
}
