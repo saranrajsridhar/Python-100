{
 "cells": [
  {
   "cell_type": "markdown",
   "metadata": {},
   "source": [
    "Classic Algorithm"
   ]
  },
  {
   "cell_type": "markdown",
   "metadata": {},
   "source": [
    "3. Bubble Sort"
   ]
  },
  {
   "cell_type": "code",
   "execution_count": 6,
   "metadata": {},
   "outputs": [
    {
     "name": "stdout",
     "output_type": "stream",
     "text": [
      "enter the size of the array: 5\n",
      "88\n",
      "44\n",
      "99\n",
      "22\n",
      "0\n",
      "unsorted list :  [88, 44, 99, 22, 0]\n",
      "sortedlist :  [0, 22, 44, 88, 99]\n"
     ]
    }
   ],
   "source": [
    "'''\n",
    "For More Ref watch this video \n",
    "\n",
    "https://www.youtube.com/watch?v=GPv7gNRR9W4\n",
    "\n",
    "\n",
    "'''\n",
    "def bubblesort(list1):\n",
    "    for j in range(len(list1)-1 ,0 ,-1):\n",
    "        for i in range(j):\n",
    "            if list1[i] > list1[i+1]:\n",
    "                list1[i] = list1[i+1]\n",
    "                list1[i+1] = list1[i]\n",
    "    print(list1)\n",
    "\n",
    "\n",
    "arrlist = []\n",
    "size = int(input('enter the size of the array: '))\n",
    "arrlist = [int(input()) for x in range(size)]\n",
    "print('unsorted list : ', arrlist)\n",
    "\n",
    "for j in range(len(arrlist)-1 ,0 ,-1):\n",
    "        for i in range(j):\n",
    "            if arrlist[i] > arrlist[i+1]:\n",
    "                arrlist[i] ,arrlist[i+1]= arrlist[i+1],arrlist[i]\n",
    "print('sortedlist : ascending order',arrlist)\n",
    "arrlist = arrlist[::-1]\n",
    "print('sortedlist : dec order',arrlist)\n",
    "\n"
   ]
  },
  {
   "cell_type": "markdown",
   "metadata": {},
   "source": [
    "#### "
   ]
  }
 ],
 "metadata": {
  "kernelspec": {
   "display_name": "Python 3",
   "language": "python",
   "name": "python3"
  },
  "language_info": {
   "codemirror_mode": {
    "name": "ipython",
    "version": 3
   },
   "file_extension": ".py",
   "mimetype": "text/x-python",
   "name": "python",
   "nbconvert_exporter": "python",
   "pygments_lexer": "ipython3",
   "version": "3.7.6"
  }
 },
 "nbformat": 4,
 "nbformat_minor": 4
}
