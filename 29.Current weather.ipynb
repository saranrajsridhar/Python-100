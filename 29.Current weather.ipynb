{
 "cells": [
  {
   "cell_type": "markdown",
   "metadata": {},
   "source": [
    "Web Scrapping"
   ]
  },
  {
   "cell_type": "markdown",
   "metadata": {},
   "source": [
    "1.Live Temp of Cities"
   ]
  },
  {
   "cell_type": "code",
   "execution_count": 78,
   "metadata": {},
   "outputs": [
    {
     "name": "stdout",
     "output_type": "stream",
     "text": [
      "Enter city name : Chennai\n",
      "<Response [200]>\n",
      "{'coord': {'lon': 80.28, 'lat': 13.09}, 'weather': [{'id': 803, 'main': 'Clouds', 'description': 'broken clouds', 'icon': '04d'}], 'base': 'stations', 'main': {'temp': 305.15, 'feels_like': 307.48, 'temp_min': 305.15, 'temp_max': 305.15, 'pressure': 1003, 'humidity': 66}, 'visibility': 6000, 'wind': {'speed': 5.7, 'deg': 170}, 'clouds': {'all': 75}, 'dt': 1595504656, 'sys': {'type': 1, 'id': 9218, 'country': 'IN', 'sunrise': 1595463726, 'sunset': 1595509697}, 'timezone': 19800, 'id': 1264527, 'name': 'Chennai', 'cod': 200}\n",
      "got data\n",
      "{'temp': 305.15, 'feels_like': 307.48, 'temp_min': 305.15, 'temp_max': 305.15, 'pressure': 1003, 'humidity': 66}\n",
      "\n",
      "\n",
      "overall in an nutshell broken clouds\n",
      "\n",
      "FeelsLike in kelvin = 307.48\n",
      "Humidity66\n",
      "Pressure 1003\n",
      "LiveTemp305.15\n"
     ]
    }
   ],
   "source": [
    "#api.openweathermap.org/data/2.5/weather?q={city name}&appid={your api key}\n",
    "import requests\n",
    "\n",
    "api_key = \"706875be9c74daf84385c7099e8c77d7\"\n",
    "\n",
    "\n",
    "city_name = input(\"Enter city name : \") \n",
    "\n",
    "URL = f'http://api.openweathermap.org/data/2.5/weather?appid={api_key}&q={city_name}'\n",
    "\n",
    "response = requests.get(URL)\n",
    "\n",
    "#to check we got the response\n",
    "print (response)\n",
    "\n",
    "#response to json data\n",
    "data = response.json()\n",
    "print(data)\n",
    "\n",
    "#check cod in data if its 200 then collect values from it\n",
    "if data[\"cod\"] == 200:\n",
    "    print(\"got data\")\n",
    "    detail = data['main']\n",
    "    print(detail)\n",
    "    feelslike = detail['feels_like']\n",
    "    humidity = detail['humidity']\n",
    "    pressure = detail['pressure']\n",
    "    currenttrmp = detail['temp']\n",
    "    w=data['weather']\n",
    "    w1=w[0]['description']\n",
    "    \n",
    "    print(\"\\n\\noverall in an nutshell \" + str(w1))\n",
    "    print(\"\\nFeelsLike in kelvin = \" + str(feelslike) + \"\\nHumidity\" + str(humidity) + \"\\nPressure \" + str(pressure) + \"\\nLiveTemp\" + str(currenttrmp))\n",
    "\n",
    "else:\n",
    "    print(\"error or city not found\")"
   ]
  }
 ],
 "metadata": {
  "kernelspec": {
   "display_name": "Python 3",
   "language": "python",
   "name": "python3"
  },
  "language_info": {
   "codemirror_mode": {
    "name": "ipython",
    "version": 3
   },
   "file_extension": ".py",
   "mimetype": "text/x-python",
   "name": "python",
   "nbconvert_exporter": "python",
   "pygments_lexer": "ipython3",
   "version": "3.7.6"
  }
 },
 "nbformat": 4,
 "nbformat_minor": 4
}
