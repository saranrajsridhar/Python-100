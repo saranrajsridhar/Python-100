{
 "cells": [
  {
   "cell_type": "markdown",
   "metadata": {},
   "source": [
    "NUMBERS"
   ]
  },
  {
   "cell_type": "markdown",
   "metadata": {},
   "source": [
    "(17)Factorial of Numbers"
   ]
  },
  {
   "cell_type": "code",
   "execution_count": 19,
   "metadata": {},
   "outputs": [
    {
     "name": "stdout",
     "output_type": "stream",
     "text": [
      "The Factorial of the Number 5 is 120 \n"
     ]
    }
   ],
   "source": [
    "Fact = 1\n",
    "Number = 5 #int(input('Enter the Number: '))\n",
    "\n",
    "if Number == 0:\n",
    "    pass\n",
    "else:\n",
    "    \n",
    "\n",
    "    for i in range(1,Number+1):\n",
    "        Fact *= i\n",
    "    \n",
    "print(f'The Factorial of the Number {Number} is {Fact} ')\n"
   ]
  }
 ],
 "metadata": {
  "kernelspec": {
   "display_name": "Python 3",
   "language": "python",
   "name": "python3"
  },
  "language_info": {
   "codemirror_mode": {
    "name": "ipython",
    "version": 3
   },
   "file_extension": ".py",
   "mimetype": "text/x-python",
   "name": "python",
   "nbconvert_exporter": "python",
   "pygments_lexer": "ipython3",
   "version": "3.7.6"
  }
 },
 "nbformat": 4,
 "nbformat_minor": 4
}
