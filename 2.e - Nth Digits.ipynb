{
 "cells": [
  {
   "cell_type": "markdown",
   "metadata": {},
   "source": [
    "NUMBERS"
   ]
  },
  {
   "cell_type": "code",
   "execution_count": null,
   "metadata": {},
   "outputs": [],
   "source": []
  },
  {
   "cell_type": "code",
   "execution_count": null,
   "metadata": {},
   "outputs": [],
   "source": []
  },
  {
   "cell_type": "markdown",
   "metadata": {},
   "source": [
    "2.Find e to the Nth Digit\n",
    "\n",
    "\n",
    "\n"
   ]
  },
  {
   "cell_type": "code",
   "execution_count": null,
   "metadata": {},
   "outputs": [],
   "source": [
    "#for 51 values \n",
    "\n",
    "import math\n",
    "from decimal import *\n",
    "#for 51 values \n",
    "sumof = Decimal(math.e)\n",
    "print(f'total dig of 51 is:{sumof} ')\n"
   ]
  },
  {
   "cell_type": "code",
   "execution_count": null,
   "metadata": {},
   "outputs": [],
   "source": [
    "#for range of 1-15\n",
    "\n",
    "\n",
    "import math \n",
    "n= int(input(' Number from 1-15 :'))\n",
    "#for range of 1-15\n",
    "\n",
    "if n<16 and n>0:\n",
    "    print(round(math.e,n))\n",
    "else:\n",
    "    print('Next time Type between 1-15')\n",
    "   \n"
   ]
  },
  {
   "cell_type": "code",
   "execution_count": 4,
   "metadata": {},
   "outputs": [
    {
     "name": "stdout",
     "output_type": "stream",
     "text": [
      "Please type number between 0-1000: 88\n",
      "2.718281828459045201125521636727883696953585814606933036203741952151812089401264934788844\n"
     ]
    }
   ],
   "source": [
    "# find e to nth digit by brothers' formulae: http://www.intmath.com/exponential-logarithmic-functions/calculating-e.php\n",
    "'''\n",
    "Recently, new formulae have been developed by Brothers (2004) which make the calculation of e very efficient.\n",
    "same result as Euler's Algorithm \n",
    "\n",
    "\n",
    "\n",
    "e= \n",
    "6\n",
    "∑((2n+1)!/2n+2)=2.718281828\n",
    "n=0\n",
    "'''\n",
    "\n",
    "\n",
    "\n",
    "from decimal import *\n",
    "\n",
    "\n",
    "def factorial(n):\n",
    "    factorials = [1]\n",
    "    for i in range(1, n + 1):\n",
    "        factorials.append(factorials[i - 1] * i)\n",
    "        #print(factorials, i)\n",
    "    return factorials\n",
    "\n",
    "\n",
    "def calculate(n):\n",
    "    decimal.getcontext().prec = n + 1\n",
    "    e = 2\n",
    "    factorials = factorial(2 * n + 1)\n",
    "    #print('f',factorials)\n",
    "    for i in range(1, n + 1):\n",
    "        numerator = 2 * i + 2\n",
    "        #print('n',numerator)\n",
    "        denominator = factorials[2 * i + 1]\n",
    "        #print('d',denominator)\n",
    "        a=(numerator/denominator)\n",
    "        #print(a)\n",
    "        e += Decimal(numerator / denominator)\n",
    "    return e\n",
    "\n",
    "\n",
    "n = int(input(\"Please type number between 0-1000: \"))\n",
    "if n >= 0 and n <= 1000:\n",
    "    print(str(calculate(n))[:n + 1])\n",
    "\n",
    "     \n",
    "\n"
   ]
  }
 ],
 "metadata": {
  "kernelspec": {
   "display_name": "Python 3",
   "language": "python",
   "name": "python3"
  },
  "language_info": {
   "codemirror_mode": {
    "name": "ipython",
    "version": 3
   },
   "file_extension": ".py",
   "mimetype": "text/x-python",
   "name": "python",
   "nbconvert_exporter": "python",
   "pygments_lexer": "ipython3",
   "version": "3.7.6"
  }
 },
 "nbformat": 4,
 "nbformat_minor": 4
}
