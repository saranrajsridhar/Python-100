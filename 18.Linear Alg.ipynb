{
 "cells": [
  {
   "cell_type": "markdown",
   "metadata": {},
   "source": [
    "NUMBERS"
   ]
  },
  {
   "cell_type": "markdown",
   "metadata": {},
   "source": [
    "(18)Linear Alg Using Classes"
   ]
  },
  {
   "cell_type": "code",
   "execution_count": 18,
   "metadata": {},
   "outputs": [
    {
     "name": "stdout",
     "output_type": "stream",
     "text": [
      "-11 -22\n",
      "22 11\n",
      "33\n",
      "44 66\n",
      "-22 -22\n"
     ]
    }
   ],
   "source": [
    "import math\n",
    "\n",
    "class arith:\n",
    "    def __init__(self,a2,b2):\n",
    "        self.a2 = a2\n",
    "        self.b2 = b2\n",
    "    def add (self):\n",
    "        added= self.a2.a1 + self.a2.b1\n",
    "        print(added)\n",
    "    def add2equ(self):\n",
    "        added1 = self.a2.a1 + self.b2.a1\n",
    "        added2 = self.a2.b1 + self.b2.b1\n",
    "        print(added1 ,added2)\n",
    "    def sub2equ(self):\n",
    "        sub1 = self.a2.a1 - self.b2.a1\n",
    "        sub2 = self.a2.b1 - self.b2.b1\n",
    "        print(sub1 ,sub2)\n",
    "    '''\n",
    "    def mul/div/trig/matrix mulp etc\n",
    "    \n",
    "    '''\n",
    "        \n",
    "\n",
    "\n",
    "\n",
    "\n",
    "class operations:\n",
    "    def __init__(self,a1,b1):\n",
    "        self.a1 = a1\n",
    "        self.b1 = b1\n",
    "    def negation(self):\n",
    "        a11 = -(self.a1)\n",
    "        b11 = -(self.b1)\n",
    "        print(a11 , b11)\n",
    "    def inversion(self):\n",
    "        t = self.a1\n",
    "        a12 = self.b1\n",
    "        b12 = self.a1\n",
    "        print(a12 , b12)\n",
    "\n",
    "a1,b1,a2,b2 = 11,22,33,44 # int(input('a1:')),int(input('b1:')),int(input('a2:')),int(input('b2:')),\n",
    "\n",
    "n1 = operations(a1,b1)\n",
    "\n",
    "n2 = operations(a2,b2)\n",
    "\n",
    "n1.negation()\n",
    "n1.inversion()\n",
    "\n",
    "#n2 is needed only for linear usage\n",
    "a = arith(n1,n2)\n",
    "a.add()\n",
    "a.add2equ()\n",
    "a.sub2equ()"
   ]
  }
 ],
 "metadata": {
  "kernelspec": {
   "display_name": "Python 3",
   "language": "python",
   "name": "python3"
  },
  "language_info": {
   "codemirror_mode": {
    "name": "ipython",
    "version": 3
   },
   "file_extension": ".py",
   "mimetype": "text/x-python",
   "name": "python",
   "nbconvert_exporter": "python",
   "pygments_lexer": "ipython3",
   "version": "3.7.6"
  }
 },
 "nbformat": 4,
 "nbformat_minor": 4
}
